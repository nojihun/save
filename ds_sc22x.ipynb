{
  "nbformat": 4,
  "nbformat_minor": 0,
  "metadata": {
    "colab": {
      "name": "ds-sc22x.ipynb",
      "provenance": [],
      "collapsed_sections": [],
      "include_colab_link": true
    },
    "kernelspec": {
      "display_name": "Python 3",
      "language": "python",
      "name": "python3"
    },
    "language_info": {
      "codemirror_mode": {
        "name": "ipython",
        "version": 3
      },
      "file_extension": ".py",
      "mimetype": "text/x-python",
      "name": "python",
      "nbconvert_exporter": "python",
      "pygments_lexer": "ipython3",
      "version": "3.8.2"
    }
  },
  "cells": [
    {
      "cell_type": "markdown",
      "metadata": {
        "id": "view-in-github",
        "colab_type": "text"
      },
      "source": [
        "<a href=\"https://colab.research.google.com/github/nojihun/save/blob/main/ds_sc22x.ipynb\" target=\"_parent\"><img src=\"https://colab.research.google.com/assets/colab-badge.svg\" alt=\"Open In Colab\"/></a>"
      ]
    },
    {
      "cell_type": "markdown",
      "metadata": {
        "id": "M3XH_XLsy_Bn"
      },
      "source": [
        "# DS SC22x\n",
        " \n",
        "### 코비 브라이언트의 슛 성공 여부 예측해보기\n",
        "\n",
        "이번 스프린트 챌린지에서는 故 코비 브라이언트 선수의 NBA 필드 골 시도들이 담긴 데이터셋을 다룹니다 (1996년 11월 3일부터 2016년 4월 13일까지의 정규 시즌과 플레이오프 시즌 기록).\n",
        "\n",
        "여러분은 각 슛의 성공 여부를 슈팅의 대한 정보, 게임에 대한 정보를 통해서 예측해야 합니다. 이것은 상당히 어려운 예측입니다. 해당 데이터셋은 [NBA API]((https://github.com/swar/nba_api) 파이썬 라이브러리를 통해 수집 됐습니다. "
      ]
    },
    {
      "cell_type": "code",
      "metadata": {
        "id": "zdi9xobtd5pX"
      },
      "source": [
        "import pandas as pd\n",
        "import numpy as np\n",
        "from sklearn.model_selection import train_test_split\n",
        "from google.colab import files\n",
        "from category_encoders import OneHotEncoder\n",
        "from sklearn.metrics import plot_confusion_matrix\n",
        "import matplotlib.pyplot as plt\n",
        "from sklearn.tree import DecisionTreeClassifier\n",
        "from scipy.stats import randint, uniform\n",
        "from sklearn.pipeline import make_pipeline\n",
        "from category_encoders import OrdinalEncoder\n",
        "from sklearn.impute import SimpleImputer\n",
        "from sklearn.ensemble import RandomForestClassifier\n",
        "from sklearn.model_selection import GridSearchCV\n",
        "from sklearn.metrics import accuracy_score\n",
        "from sklearn.metrics import f1_score\n",
        "from sklearn.model_selection import RandomizedSearchCV\n"
      ],
      "execution_count": 126,
      "outputs": []
    },
    {
      "cell_type": "code",
      "metadata": {
        "id": "Nw3CL7TE7tNq"
      },
      "source": [
        "# Google Colab으로 수행한다면 이 셀을 먼저 실행해주세요\n",
        "%%capture\n",
        "import sys\n",
        "\n",
        "if 'google.colab' in sys.modules:\n",
        "    # Install packages in Colab\n",
        "    !pip install category_encoders==2.*\n",
        "    !pip install pandas-profiling==2.*"
      ],
      "execution_count": 1,
      "outputs": []
    },
    {
      "cell_type": "code",
      "metadata": {
        "id": "-Nm24pCHy_Bo"
      },
      "source": [
        "# 데이터셋을 불러옵니다\n",
        "import pandas as pd\n",
        "url = 'https://ds-lecture-data.s3.ap-northeast-2.amazonaws.com/nba/nba_kobe_bryant.csv'\n",
        "df = pd.read_csv(url)\n",
        "\n",
        "# 데이터셋이 잘 불러졌는지 확인합니다\n",
        "assert df.shape == (30697, 19)"
      ],
      "execution_count": 2,
      "outputs": []
    },
    {
      "cell_type": "code",
      "metadata": {
        "colab": {
          "base_uri": "https://localhost:8080/",
          "height": 306
        },
        "id": "k17R5DuOWC_6",
        "outputId": "279f764c-cf0e-4429-9d4e-300082936f46"
      },
      "source": [
        "df.head()"
      ],
      "execution_count": 3,
      "outputs": [
        {
          "output_type": "execute_result",
          "data": {
            "text/html": [
              "<div>\n",
              "<style scoped>\n",
              "    .dataframe tbody tr th:only-of-type {\n",
              "        vertical-align: middle;\n",
              "    }\n",
              "\n",
              "    .dataframe tbody tr th {\n",
              "        vertical-align: top;\n",
              "    }\n",
              "\n",
              "    .dataframe thead th {\n",
              "        text-align: right;\n",
              "    }\n",
              "</style>\n",
              "<table border=\"1\" class=\"dataframe\">\n",
              "  <thead>\n",
              "    <tr style=\"text-align: right;\">\n",
              "      <th></th>\n",
              "      <th>game_id</th>\n",
              "      <th>game_event_id</th>\n",
              "      <th>player_name</th>\n",
              "      <th>period</th>\n",
              "      <th>minutes_remaining</th>\n",
              "      <th>seconds_remaining</th>\n",
              "      <th>action_type</th>\n",
              "      <th>shot_type</th>\n",
              "      <th>shot_zone_basic</th>\n",
              "      <th>shot_zone_area</th>\n",
              "      <th>shot_zone_range</th>\n",
              "      <th>shot_distance</th>\n",
              "      <th>loc_x</th>\n",
              "      <th>loc_y</th>\n",
              "      <th>shot_made_flag</th>\n",
              "      <th>game_date</th>\n",
              "      <th>htm</th>\n",
              "      <th>vtm</th>\n",
              "      <th>season_type</th>\n",
              "    </tr>\n",
              "  </thead>\n",
              "  <tbody>\n",
              "    <tr>\n",
              "      <th>0</th>\n",
              "      <td>29600027</td>\n",
              "      <td>102</td>\n",
              "      <td>Kobe Bryant</td>\n",
              "      <td>1</td>\n",
              "      <td>0</td>\n",
              "      <td>42</td>\n",
              "      <td>Jump Shot</td>\n",
              "      <td>2PT Field Goal</td>\n",
              "      <td>Mid-Range</td>\n",
              "      <td>Left Side Center(LC)</td>\n",
              "      <td>16-24 ft.</td>\n",
              "      <td>18</td>\n",
              "      <td>-140</td>\n",
              "      <td>116</td>\n",
              "      <td>0</td>\n",
              "      <td>1996-11-03</td>\n",
              "      <td>LAL</td>\n",
              "      <td>MIN</td>\n",
              "      <td>Regular Season</td>\n",
              "    </tr>\n",
              "    <tr>\n",
              "      <th>1</th>\n",
              "      <td>29600031</td>\n",
              "      <td>127</td>\n",
              "      <td>Kobe Bryant</td>\n",
              "      <td>2</td>\n",
              "      <td>10</td>\n",
              "      <td>8</td>\n",
              "      <td>Jump Shot</td>\n",
              "      <td>2PT Field Goal</td>\n",
              "      <td>Mid-Range</td>\n",
              "      <td>Left Side Center(LC)</td>\n",
              "      <td>16-24 ft.</td>\n",
              "      <td>16</td>\n",
              "      <td>-131</td>\n",
              "      <td>97</td>\n",
              "      <td>0</td>\n",
              "      <td>1996-11-05</td>\n",
              "      <td>NYK</td>\n",
              "      <td>LAL</td>\n",
              "      <td>Regular Season</td>\n",
              "    </tr>\n",
              "    <tr>\n",
              "      <th>2</th>\n",
              "      <td>29600044</td>\n",
              "      <td>124</td>\n",
              "      <td>Kobe Bryant</td>\n",
              "      <td>2</td>\n",
              "      <td>8</td>\n",
              "      <td>37</td>\n",
              "      <td>Jump Shot</td>\n",
              "      <td>3PT Field Goal</td>\n",
              "      <td>Mid-Range</td>\n",
              "      <td>Left Side Center(LC)</td>\n",
              "      <td>16-24 ft.</td>\n",
              "      <td>23</td>\n",
              "      <td>-142</td>\n",
              "      <td>181</td>\n",
              "      <td>1</td>\n",
              "      <td>1996-11-06</td>\n",
              "      <td>CHH</td>\n",
              "      <td>LAL</td>\n",
              "      <td>Regular Season</td>\n",
              "    </tr>\n",
              "    <tr>\n",
              "      <th>3</th>\n",
              "      <td>29600044</td>\n",
              "      <td>144</td>\n",
              "      <td>Kobe Bryant</td>\n",
              "      <td>2</td>\n",
              "      <td>6</td>\n",
              "      <td>34</td>\n",
              "      <td>Jump Shot</td>\n",
              "      <td>3PT Field Goal</td>\n",
              "      <td>Restricted Area</td>\n",
              "      <td>Center(C)</td>\n",
              "      <td>Less Than 8 ft.</td>\n",
              "      <td>0</td>\n",
              "      <td>0</td>\n",
              "      <td>0</td>\n",
              "      <td>0</td>\n",
              "      <td>1996-11-06</td>\n",
              "      <td>CHH</td>\n",
              "      <td>LAL</td>\n",
              "      <td>Regular Season</td>\n",
              "    </tr>\n",
              "    <tr>\n",
              "      <th>4</th>\n",
              "      <td>29600044</td>\n",
              "      <td>151</td>\n",
              "      <td>Kobe Bryant</td>\n",
              "      <td>2</td>\n",
              "      <td>5</td>\n",
              "      <td>27</td>\n",
              "      <td>Jump Shot</td>\n",
              "      <td>2PT Field Goal</td>\n",
              "      <td>In The Paint (Non-RA)</td>\n",
              "      <td>Center(C)</td>\n",
              "      <td>8-16 ft.</td>\n",
              "      <td>13</td>\n",
              "      <td>-10</td>\n",
              "      <td>138</td>\n",
              "      <td>1</td>\n",
              "      <td>1996-11-06</td>\n",
              "      <td>CHH</td>\n",
              "      <td>LAL</td>\n",
              "      <td>Regular Season</td>\n",
              "    </tr>\n",
              "  </tbody>\n",
              "</table>\n",
              "</div>"
            ],
            "text/plain": [
              "    game_id  game_event_id  player_name  ...  htm  vtm     season_type\n",
              "0  29600027            102  Kobe Bryant  ...  LAL  MIN  Regular Season\n",
              "1  29600031            127  Kobe Bryant  ...  NYK  LAL  Regular Season\n",
              "2  29600044            124  Kobe Bryant  ...  CHH  LAL  Regular Season\n",
              "3  29600044            144  Kobe Bryant  ...  CHH  LAL  Regular Season\n",
              "4  29600044            151  Kobe Bryant  ...  CHH  LAL  Regular Season\n",
              "\n",
              "[5 rows x 19 columns]"
            ]
          },
          "metadata": {},
          "execution_count": 3
        }
      ]
    },
    {
      "cell_type": "code",
      "metadata": {
        "colab": {
          "base_uri": "https://localhost:8080/"
        },
        "id": "cUhO2vRRXMQB",
        "outputId": "158ce5cd-3963-433a-c98b-f7780d402397"
      },
      "source": [
        "df.info()"
      ],
      "execution_count": 7,
      "outputs": [
        {
          "output_type": "stream",
          "text": [
            "<class 'pandas.core.frame.DataFrame'>\n",
            "RangeIndex: 30697 entries, 0 to 30696\n",
            "Data columns (total 19 columns):\n",
            " #   Column             Non-Null Count  Dtype \n",
            "---  ------             --------------  ----- \n",
            " 0   game_id            30697 non-null  int64 \n",
            " 1   game_event_id      30697 non-null  int64 \n",
            " 2   player_name        30697 non-null  object\n",
            " 3   period             30697 non-null  int64 \n",
            " 4   minutes_remaining  30697 non-null  int64 \n",
            " 5   seconds_remaining  30697 non-null  int64 \n",
            " 6   action_type        30697 non-null  object\n",
            " 7   shot_type          30697 non-null  object\n",
            " 8   shot_zone_basic    30697 non-null  object\n",
            " 9   shot_zone_area     30697 non-null  object\n",
            " 10  shot_zone_range    30697 non-null  object\n",
            " 11  shot_distance      30697 non-null  int64 \n",
            " 12  loc_x              30697 non-null  int64 \n",
            " 13  loc_y              30697 non-null  int64 \n",
            " 14  shot_made_flag     30697 non-null  int64 \n",
            " 15  game_date          30697 non-null  object\n",
            " 16  htm                30697 non-null  object\n",
            " 17  vtm                30697 non-null  object\n",
            " 18  season_type        30697 non-null  object\n",
            "dtypes: int64(9), object(10)\n",
            "memory usage: 4.4+ MB\n"
          ],
          "name": "stdout"
        }
      ]
    },
    {
      "cell_type": "markdown",
      "metadata": {
        "id": "cnqa7uvzV1o3"
      },
      "source": [
        "# Part 1 - Data Preprocessing"
      ]
    },
    {
      "cell_type": "markdown",
      "metadata": {
        "id": "t6Jt3qjQ-zig"
      },
      "source": [
        "## 1.1 분류를 위한 베이스라인 정확도를 계산하세요\n",
        ">예측 해야하는 target은 `shot_made_flag` 입니다. 전체 데이터를 써서 baseline **accuracy score**를 계산하세요."
      ]
    },
    {
      "cell_type": "code",
      "metadata": {
        "id": "4mlZXFjvXEm6"
      },
      "source": [
        "target = 'shot_made_flag'\n",
        "y_train = df[target]"
      ],
      "execution_count": 5,
      "outputs": []
    },
    {
      "cell_type": "code",
      "metadata": {
        "colab": {
          "base_uri": "https://localhost:8080/"
        },
        "id": "I0BDeNFG_Kee",
        "outputId": "3a56f8e7-fce5-4842-d753-78b584260a49"
      },
      "source": [
        "# 이 곳에 답안을 작성하십시오\n",
        "from sklearn.metrics import accuracy_score\n",
        "major = y_train.mode()\n",
        "y_pred = [major] * len(y_train)\n",
        "print('기준모델 정확도:', accuracy_score(y_train, y_pred))"
      ],
      "execution_count": 6,
      "outputs": [
        {
          "output_type": "stream",
          "text": [
            "기준모델 정확도: 0.5526924455158485\n"
          ],
          "name": "stdout"
        }
      ]
    },
    {
      "cell_type": "markdown",
      "metadata": {
        "id": "Dz2QHBiVy_Br"
      },
      "source": [
        "## 1.2 모델의 예측 정확도를 시험하기 위한 test set을 만드세요.\n",
        "\n",
        "> 예측 모델 시험을 위해 2014-15 ~ 2015-16 시즌을 test set으로 만듭니다. NBA 시즌은 10월에 시작해서 6월에 종료합니다. 테스트셋에 **1826개**의 데이터가 있다면 알맞게 분할한 것입니다."
      ]
    },
    {
      "cell_type": "code",
      "metadata": {
        "id": "OPod6lBG_wTT"
      },
      "source": [
        "# 이 곳에 답안을 작성하십시오\n",
        "df['game_date'] = pd.to_datetime(df['game_date'])\n"
      ],
      "execution_count": 44,
      "outputs": []
    },
    {
      "cell_type": "code",
      "metadata": {
        "colab": {
          "base_uri": "https://localhost:8080/",
          "height": 356
        },
        "id": "GnNRbZzJYS9Z",
        "outputId": "8c2e3783-b87e-4c65-b719-4441db3b5531"
      },
      "source": [
        "df.head()"
      ],
      "execution_count": 105,
      "outputs": [
        {
          "output_type": "execute_result",
          "data": {
            "text/html": [
              "<div>\n",
              "<style scoped>\n",
              "    .dataframe tbody tr th:only-of-type {\n",
              "        vertical-align: middle;\n",
              "    }\n",
              "\n",
              "    .dataframe tbody tr th {\n",
              "        vertical-align: top;\n",
              "    }\n",
              "\n",
              "    .dataframe thead th {\n",
              "        text-align: right;\n",
              "    }\n",
              "</style>\n",
              "<table border=\"1\" class=\"dataframe\">\n",
              "  <thead>\n",
              "    <tr style=\"text-align: right;\">\n",
              "      <th></th>\n",
              "      <th>game_id</th>\n",
              "      <th>game_event_id</th>\n",
              "      <th>player_name</th>\n",
              "      <th>period</th>\n",
              "      <th>minutes_remaining</th>\n",
              "      <th>seconds_remaining</th>\n",
              "      <th>action_type</th>\n",
              "      <th>shot_type</th>\n",
              "      <th>shot_zone_basic</th>\n",
              "      <th>shot_zone_area</th>\n",
              "      <th>shot_zone_range</th>\n",
              "      <th>shot_distance</th>\n",
              "      <th>loc_x</th>\n",
              "      <th>loc_y</th>\n",
              "      <th>shot_made_flag</th>\n",
              "      <th>game_date</th>\n",
              "      <th>htm</th>\n",
              "      <th>vtm</th>\n",
              "      <th>season_type</th>\n",
              "      <th>Seconds remaining in the period</th>\n",
              "      <th>Opponent</th>\n",
              "      <th>Homecourt Advantage</th>\n",
              "    </tr>\n",
              "  </thead>\n",
              "  <tbody>\n",
              "    <tr>\n",
              "      <th>0</th>\n",
              "      <td>29600027</td>\n",
              "      <td>102</td>\n",
              "      <td>Kobe Bryant</td>\n",
              "      <td>1</td>\n",
              "      <td>0</td>\n",
              "      <td>42</td>\n",
              "      <td>Jump Shot</td>\n",
              "      <td>2PT Field Goal</td>\n",
              "      <td>Mid-Range</td>\n",
              "      <td>Left Side Center(LC)</td>\n",
              "      <td>16-24 ft.</td>\n",
              "      <td>18</td>\n",
              "      <td>-140</td>\n",
              "      <td>116</td>\n",
              "      <td>0</td>\n",
              "      <td>1996-11-03</td>\n",
              "      <td>LAL</td>\n",
              "      <td>MIN</td>\n",
              "      <td>Regular Season</td>\n",
              "      <td>42</td>\n",
              "      <td>MIN</td>\n",
              "      <td>1.0</td>\n",
              "    </tr>\n",
              "    <tr>\n",
              "      <th>1</th>\n",
              "      <td>29600031</td>\n",
              "      <td>127</td>\n",
              "      <td>Kobe Bryant</td>\n",
              "      <td>2</td>\n",
              "      <td>10</td>\n",
              "      <td>8</td>\n",
              "      <td>Jump Shot</td>\n",
              "      <td>2PT Field Goal</td>\n",
              "      <td>Mid-Range</td>\n",
              "      <td>Left Side Center(LC)</td>\n",
              "      <td>16-24 ft.</td>\n",
              "      <td>16</td>\n",
              "      <td>-131</td>\n",
              "      <td>97</td>\n",
              "      <td>0</td>\n",
              "      <td>1996-11-05</td>\n",
              "      <td>NYK</td>\n",
              "      <td>LAL</td>\n",
              "      <td>Regular Season</td>\n",
              "      <td>608</td>\n",
              "      <td>NYK</td>\n",
              "      <td>0.0</td>\n",
              "    </tr>\n",
              "    <tr>\n",
              "      <th>2</th>\n",
              "      <td>29600044</td>\n",
              "      <td>124</td>\n",
              "      <td>Kobe Bryant</td>\n",
              "      <td>2</td>\n",
              "      <td>8</td>\n",
              "      <td>37</td>\n",
              "      <td>Jump Shot</td>\n",
              "      <td>3PT Field Goal</td>\n",
              "      <td>Mid-Range</td>\n",
              "      <td>Left Side Center(LC)</td>\n",
              "      <td>16-24 ft.</td>\n",
              "      <td>23</td>\n",
              "      <td>-142</td>\n",
              "      <td>181</td>\n",
              "      <td>1</td>\n",
              "      <td>1996-11-06</td>\n",
              "      <td>CHH</td>\n",
              "      <td>LAL</td>\n",
              "      <td>Regular Season</td>\n",
              "      <td>517</td>\n",
              "      <td>CHH</td>\n",
              "      <td>0.0</td>\n",
              "    </tr>\n",
              "    <tr>\n",
              "      <th>3</th>\n",
              "      <td>29600044</td>\n",
              "      <td>144</td>\n",
              "      <td>Kobe Bryant</td>\n",
              "      <td>2</td>\n",
              "      <td>6</td>\n",
              "      <td>34</td>\n",
              "      <td>Jump Shot</td>\n",
              "      <td>3PT Field Goal</td>\n",
              "      <td>Restricted Area</td>\n",
              "      <td>Center(C)</td>\n",
              "      <td>Less Than 8 ft.</td>\n",
              "      <td>0</td>\n",
              "      <td>0</td>\n",
              "      <td>0</td>\n",
              "      <td>0</td>\n",
              "      <td>1996-11-06</td>\n",
              "      <td>CHH</td>\n",
              "      <td>LAL</td>\n",
              "      <td>Regular Season</td>\n",
              "      <td>394</td>\n",
              "      <td>CHH</td>\n",
              "      <td>0.0</td>\n",
              "    </tr>\n",
              "    <tr>\n",
              "      <th>4</th>\n",
              "      <td>29600044</td>\n",
              "      <td>151</td>\n",
              "      <td>Kobe Bryant</td>\n",
              "      <td>2</td>\n",
              "      <td>5</td>\n",
              "      <td>27</td>\n",
              "      <td>Jump Shot</td>\n",
              "      <td>2PT Field Goal</td>\n",
              "      <td>In The Paint (Non-RA)</td>\n",
              "      <td>Center(C)</td>\n",
              "      <td>8-16 ft.</td>\n",
              "      <td>13</td>\n",
              "      <td>-10</td>\n",
              "      <td>138</td>\n",
              "      <td>1</td>\n",
              "      <td>1996-11-06</td>\n",
              "      <td>CHH</td>\n",
              "      <td>LAL</td>\n",
              "      <td>Regular Season</td>\n",
              "      <td>327</td>\n",
              "      <td>CHH</td>\n",
              "      <td>0.0</td>\n",
              "    </tr>\n",
              "  </tbody>\n",
              "</table>\n",
              "</div>"
            ],
            "text/plain": [
              "    game_id  game_event_id  ... Opponent  Homecourt Advantage\n",
              "0  29600027            102  ...      MIN                  1.0\n",
              "1  29600031            127  ...      NYK                  0.0\n",
              "2  29600044            124  ...      CHH                  0.0\n",
              "3  29600044            144  ...      CHH                  0.0\n",
              "4  29600044            151  ...      CHH                  0.0\n",
              "\n",
              "[5 rows x 22 columns]"
            ]
          },
          "metadata": {},
          "execution_count": 105
        }
      ]
    },
    {
      "cell_type": "code",
      "metadata": {
        "id": "A8KI5ImLYpzo"
      },
      "source": [
        "test = df[ (df['game_date'] > '2014-10-1 00:00:00') ]\n"
      ],
      "execution_count": 110,
      "outputs": []
    },
    {
      "cell_type": "code",
      "metadata": {
        "colab": {
          "base_uri": "https://localhost:8080/"
        },
        "id": "JQxkC41jZC4y",
        "outputId": "3146b8e8-20ef-41cc-e96f-bb9477569474"
      },
      "source": [
        "test.shape"
      ],
      "execution_count": 111,
      "outputs": [
        {
          "output_type": "execute_result",
          "data": {
            "text/plain": [
              "(1826, 22)"
            ]
          },
          "metadata": {},
          "execution_count": 111
        }
      ]
    },
    {
      "cell_type": "markdown",
      "metadata": {
        "id": "P9Nihzk6y_CF"
      },
      "source": [
        "## 1.3 새로운 feature를 만드세요\n",
        "\n",
        "> 최소 1개 이상의 새로운 feature를 만드세요. 아래의 리스트를 사용하셔도 되고 스스로의 아이디어로 만들어 주셔도 괜찮습니다.\n",
        ">- **Homecourt Advantage**: 홈 팀(`htm`)이 Los Angeles Lakers (`LAL`)인지 여부\n",
        ">- **Opponent**: LA Lakers를 상대하는 팀을 나타내는 feature\n",
        ">- **Seconds remaining in the period**: 피리어드에 남은 총 시간 (분과 초를 합칩니다)\n",
        ">- **Seconds remaining in the game**: 게임에 남은 총 시간 (피리어드와 초를 합칩니다). 농구에서 게임은 총 4개의 피리어드로 이루어져 있습니다 (각 12분)\n",
        ">- **Made previous shot**: 코비 브라이언트의 예전 슛이 성공했는지 여부\n",
        "    "
      ]
    },
    {
      "cell_type": "code",
      "metadata": {
        "colab": {
          "base_uri": "https://localhost:8080/"
        },
        "id": "A0pxdFtWy_Bz",
        "outputId": "f65bac22-d8ff-4240-fff6-d304a6002811"
      },
      "source": [
        "# 이 곳에 답안을 작성하십시오\n",
        "\n",
        "df['Seconds remaining in the period'] = df['minutes_remaining']*60 + df['seconds_remaining']\n",
        "df['Opponent']=np.nan\n",
        "for i  in range(len(df)):\n",
        "  if df['htm'][i] == 'LAL':\n",
        "    df['Opponent'][i]= df['vtm'][i]\n",
        "  else:\n",
        "    df['Opponent'][i]=df['htm'][i]"
      ],
      "execution_count": 100,
      "outputs": [
        {
          "output_type": "stream",
          "text": [
            "/usr/local/lib/python3.7/dist-packages/ipykernel_launcher.py:7: SettingWithCopyWarning: \n",
            "A value is trying to be set on a copy of a slice from a DataFrame\n",
            "\n",
            "See the caveats in the documentation: https://pandas.pydata.org/pandas-docs/stable/user_guide/indexing.html#returning-a-view-versus-a-copy\n",
            "  import sys\n",
            "/usr/local/lib/python3.7/dist-packages/pandas/core/indexing.py:670: SettingWithCopyWarning: \n",
            "A value is trying to be set on a copy of a slice from a DataFrame\n",
            "\n",
            "See the caveats in the documentation: https://pandas.pydata.org/pandas-docs/stable/user_guide/indexing.html#returning-a-view-versus-a-copy\n",
            "  iloc._setitem_with_indexer(indexer, value)\n",
            "/usr/local/lib/python3.7/dist-packages/ipykernel_launcher.py:9: SettingWithCopyWarning: \n",
            "A value is trying to be set on a copy of a slice from a DataFrame\n",
            "\n",
            "See the caveats in the documentation: https://pandas.pydata.org/pandas-docs/stable/user_guide/indexing.html#returning-a-view-versus-a-copy\n",
            "  if __name__ == '__main__':\n"
          ],
          "name": "stderr"
        }
      ]
    },
    {
      "cell_type": "code",
      "metadata": {
        "colab": {
          "base_uri": "https://localhost:8080/"
        },
        "id": "tx3WMb-5tiep",
        "outputId": "ce602432-f69f-40db-8a3c-00029ef24458"
      },
      "source": [
        "df['Homecourt Advantage'] = np.nan\n",
        "for i  in range(len(df)):\n",
        "  if df['htm'][i] == 'LAL':\n",
        "    df['Homecourt Advantage'][i] = 1 \n",
        "  else:\n",
        "    df['Homecourt Advantage'][i] = 0"
      ],
      "execution_count": 101,
      "outputs": [
        {
          "output_type": "stream",
          "text": [
            "/usr/local/lib/python3.7/dist-packages/ipykernel_launcher.py:4: SettingWithCopyWarning: \n",
            "A value is trying to be set on a copy of a slice from a DataFrame\n",
            "\n",
            "See the caveats in the documentation: https://pandas.pydata.org/pandas-docs/stable/user_guide/indexing.html#returning-a-view-versus-a-copy\n",
            "  after removing the cwd from sys.path.\n",
            "/usr/local/lib/python3.7/dist-packages/ipykernel_launcher.py:6: SettingWithCopyWarning: \n",
            "A value is trying to be set on a copy of a slice from a DataFrame\n",
            "\n",
            "See the caveats in the documentation: https://pandas.pydata.org/pandas-docs/stable/user_guide/indexing.html#returning-a-view-versus-a-copy\n",
            "  \n"
          ],
          "name": "stderr"
        }
      ]
    },
    {
      "cell_type": "code",
      "metadata": {
        "id": "dSpaIm29t_8R"
      },
      "source": [
        ""
      ],
      "execution_count": null,
      "outputs": []
    },
    {
      "cell_type": "markdown",
      "metadata": {
        "id": "eLs7pt7NFJLF"
      },
      "source": [
        "## 1.4 모델을 어떻게 검증할지 결정한 후에 데이터셋을 분할하세요. \n",
        "\n",
        ">아래의 검증 방법 중 하나를 선택한 후 목적에 맞게 데이터를 분할 하세요. 어떤 방법을 선택하는지 여부로 채점되지 않습니다 (두 방법 모두 좋은 방법입니다).\n",
        ">\n",
        ">- **Train/validate/test split을 통한 검증 (Hold-out Validation): 무작위로 80/20% 비율로 나누기**\n",
        ">- **독립적인 test set으로 Cross-validation을 통한 검증**. scikit-learn에 있는 모든 cross-validation 방법을 활용하셔도 됩니다."
      ]
    },
    {
      "cell_type": "code",
      "metadata": {
        "id": "LJ58CceDISXR"
      },
      "source": [
        "# 이 곳에 답안을 작성하십시오\n",
        "train = df[ (df['game_date'] < '2014-10-1 00:00:00') ]"
      ],
      "execution_count": 106,
      "outputs": []
    },
    {
      "cell_type": "code",
      "metadata": {
        "id": "L6pQUSx3cGN_"
      },
      "source": [
        "\n",
        "train, val = train_test_split(train, train_size=0.80, test_size=0.20, \n",
        "                              stratify=train[target], random_state=2)"
      ],
      "execution_count": 107,
      "outputs": []
    },
    {
      "cell_type": "code",
      "metadata": {
        "colab": {
          "base_uri": "https://localhost:8080/"
        },
        "id": "GdrMTrn5cQHW",
        "outputId": "d0fb3617-6235-4a31-9227-87c72b56de5b"
      },
      "source": [
        "train.shape, val.shape"
      ],
      "execution_count": 108,
      "outputs": [
        {
          "output_type": "execute_result",
          "data": {
            "text/plain": [
              "((23096, 22), (5775, 22))"
            ]
          },
          "metadata": {},
          "execution_count": 108
        }
      ]
    },
    {
      "cell_type": "code",
      "metadata": {
        "id": "A6Nm4HhOfDG2"
      },
      "source": [
        "features = train.drop(columns=[target, 'game_date', 'game_id','game_event_id',\t'player_name']).columns\n",
        "\n",
        "\n",
        "X_train = train[features]\n",
        "y_train = train[target]\n",
        "X_val = val[features]\n",
        "y_val = val[target]\n",
        "X_test = test[features]\n",
        "y_test = test[target]"
      ],
      "execution_count": 112,
      "outputs": []
    },
    {
      "cell_type": "markdown",
      "metadata": {
        "id": "tNwb5hrTV1o-"
      },
      "source": [
        "# Part 2 - Modeling & Evaluation"
      ]
    },
    {
      "cell_type": "markdown",
      "metadata": {
        "id": "oQ2lWlu7JPRt"
      },
      "source": [
        "## 2.1 범주형 feature를 인코딩하고 DecisionTree 혹은 RandomForest를 이용한 학습까지 완료하는 파이프라인을 구축하세요\n",
        ">Scikit-learn의 `pipeline`을 활용합니다."
      ]
    },
    {
      "cell_type": "code",
      "metadata": {
        "colab": {
          "base_uri": "https://localhost:8080/"
        },
        "id": "X2S8mUuJy_CB",
        "outputId": "cf7166b4-ab32-4c46-b548-0a4e0fd1f7df"
      },
      "source": [
        "# 이 곳에 답안을 작성하십시오\n",
        "pipe = make_pipeline(\n",
        "    OrdinalEncoder(), \n",
        "    SimpleImputer(), \n",
        "    RandomForestClassifier(random_state=0)\n",
        ")\n",
        "dists = {\n",
        "    'randomforestclassifier__n_estimators': randint(50, 200), \n",
        "    'randomforestclassifier__max_depth': [10,20,30,40, 50, 60], \n",
        "    'randomforestclassifier__max_features': uniform(0, 1)\n",
        "}\n",
        "clf = RandomizedSearchCV(\n",
        "    pipe, \n",
        "    param_distributions=dists, \n",
        "    n_iter=50, \n",
        "    cv=3, \n",
        "    scoring='accuracy',  \n",
        "    verbose=1,\n",
        "    n_jobs=-1\n",
        ")\n",
        "pipe.fit(X_train, y_train)"
      ],
      "execution_count": 124,
      "outputs": [
        {
          "output_type": "execute_result",
          "data": {
            "text/plain": [
              "Pipeline(memory=None,\n",
              "         steps=[('ordinalencoder',\n",
              "                 OrdinalEncoder(cols=['action_type', 'shot_type',\n",
              "                                      'shot_zone_basic', 'shot_zone_area',\n",
              "                                      'shot_zone_range', 'htm', 'vtm',\n",
              "                                      'season_type', 'Opponent'],\n",
              "                                drop_invariant=False, handle_missing='value',\n",
              "                                handle_unknown='value',\n",
              "                                mapping=[{'col': 'action_type',\n",
              "                                          'data_type': dtype('O'),\n",
              "                                          'mapping': Jump Shot                          1\n",
              "Layup Shot                         2\n",
              "Running Hook Shot                  3\n",
              "R...\n",
              "                 RandomForestClassifier(bootstrap=True, ccp_alpha=0.0,\n",
              "                                        class_weight=None, criterion='gini',\n",
              "                                        max_depth=None, max_features='auto',\n",
              "                                        max_leaf_nodes=None, max_samples=None,\n",
              "                                        min_impurity_decrease=0.0,\n",
              "                                        min_impurity_split=None,\n",
              "                                        min_samples_leaf=1, min_samples_split=2,\n",
              "                                        min_weight_fraction_leaf=0.0,\n",
              "                                        n_estimators=100, n_jobs=None,\n",
              "                                        oob_score=False, random_state=0,\n",
              "                                        verbose=0, warm_start=False))],\n",
              "         verbose=False)"
            ]
          },
          "metadata": {},
          "execution_count": 124
        }
      ]
    },
    {
      "cell_type": "markdown",
      "metadata": {
        "id": "8kJXxFpty_CH"
      },
      "source": [
        "## 2.2 검증셋을 사용해서 모델의 예측 정확도(accuracy score)를 계산하세요.\n",
        ">1.4에서 Cross-validation으로 진행한 경우는 그냥 cv score를 작성하세요."
      ]
    },
    {
      "cell_type": "code",
      "metadata": {
        "colab": {
          "base_uri": "https://localhost:8080/",
          "height": 203
        },
        "id": "7560JKvxy_CJ",
        "outputId": "9a1cb2fd-ee31-49a0-af7c-2f1791e85f23"
      },
      "source": [
        "# 이 곳에 답안을 작성하십시오\n",
        "pipe = clf.best_estimator_\n",
        "y_val_pred = pipe.predict(X_val)"
      ],
      "execution_count": 127,
      "outputs": [
        {
          "output_type": "error",
          "ename": "AttributeError",
          "evalue": "ignored",
          "traceback": [
            "\u001b[0;31m---------------------------------------------------------------------------\u001b[0m",
            "\u001b[0;31mAttributeError\u001b[0m                            Traceback (most recent call last)",
            "\u001b[0;32m<ipython-input-127-529809fa2d65>\u001b[0m in \u001b[0;36m<module>\u001b[0;34m()\u001b[0m\n\u001b[1;32m      1\u001b[0m \u001b[0;31m# 이 곳에 답안을 작성하십시오\u001b[0m\u001b[0;34m\u001b[0m\u001b[0;34m\u001b[0m\u001b[0;34m\u001b[0m\u001b[0m\n\u001b[0;32m----> 2\u001b[0;31m \u001b[0mpipe\u001b[0m \u001b[0;34m=\u001b[0m \u001b[0mclf\u001b[0m\u001b[0;34m.\u001b[0m\u001b[0mbest_estimator_\u001b[0m\u001b[0;34m\u001b[0m\u001b[0;34m\u001b[0m\u001b[0m\n\u001b[0m\u001b[1;32m      3\u001b[0m \u001b[0my_val_pred\u001b[0m \u001b[0;34m=\u001b[0m \u001b[0mpipe\u001b[0m\u001b[0;34m.\u001b[0m\u001b[0mpredict\u001b[0m\u001b[0;34m(\u001b[0m\u001b[0mX_val\u001b[0m\u001b[0;34m)\u001b[0m\u001b[0;34m\u001b[0m\u001b[0;34m\u001b[0m\u001b[0m\n",
            "\u001b[0;31mAttributeError\u001b[0m: 'RandomizedSearchCV' object has no attribute 'best_estimator_'"
          ]
        }
      ]
    },
    {
      "cell_type": "code",
      "metadata": {
        "colab": {
          "base_uri": "https://localhost:8080/"
        },
        "id": "T4vAIuZlhijv",
        "outputId": "645a7543-e936-4324-ca29-c3f018a4b9d9"
      },
      "source": [
        " accuracy_score(y_val, y_val_pred)\n",
        " "
      ],
      "execution_count": 120,
      "outputs": [
        {
          "output_type": "execute_result",
          "data": {
            "text/plain": [
              "0.6588744588744588"
            ]
          },
          "metadata": {},
          "execution_count": 120
        }
      ]
    },
    {
      "cell_type": "markdown",
      "metadata": {
        "id": "YvyYY9tfy_CL"
      },
      "source": [
        "## 2.3 테스트셋을 사용해서 모델의 예측 정확도(accuracy score)를 계산하세요"
      ]
    },
    {
      "cell_type": "code",
      "metadata": {
        "id": "wjV2dfl6y_CL"
      },
      "source": [
        "# 이 곳에 답안을 작성하십시오\n",
        "pred = pipe.predict(X_test)"
      ],
      "execution_count": 121,
      "outputs": []
    },
    {
      "cell_type": "code",
      "metadata": {
        "colab": {
          "base_uri": "https://localhost:8080/"
        },
        "id": "odtfJyduiFg9",
        "outputId": "470a299b-d355-4381-ac55-589e17567a00"
      },
      "source": [
        " accuracy_score(y_test, pred)"
      ],
      "execution_count": 117,
      "outputs": [
        {
          "output_type": "execute_result",
          "data": {
            "text/plain": [
              "0.6451259583789705"
            ]
          },
          "metadata": {},
          "execution_count": 117
        }
      ]
    },
    {
      "cell_type": "markdown",
      "metadata": {
        "id": "xGL5stLvJCn1"
      },
      "source": [
        "# Part 3 - Confusion Matrix\n",
        "### 다음 confusion matrix를 사용해서 accuracy, precision, recall을 계산하세요. 아래의 테이블이 이진분류 모델의 confusion matrix라고 생각하고 계산하세요.\n",
        "\n",
        "<table>\n",
        "  <tr>\n",
        "    <td colspan=\"2\" rowspan=\"2\"></td>\n",
        "    <td colspan=\"2\" align='center'><b>Predicted</b></td>\n",
        "  </tr>\n",
        "  <tr>\n",
        "    <td>Negative</td>\n",
        "    <td>Positive</td>\n",
        "  </tr>\n",
        "  <tr>\n",
        "      <td rowspan=\"2\"><b>Actual</b></td>\n",
        "    <td>Negative</td>\n",
        "    <td style=\"border: solid\" align='center'>85</td>\n",
        "    <td style=\"border: solid\" align='center'>58</td>\n",
        "  </tr>\n",
        "  <tr>\n",
        "    <td>Positive</td>\n",
        "    <td style=\"border: solid\" align='center'>8</td>\n",
        "    <td style=\"border: solid\" align='center'> 36</td>\n",
        "  </tr>\n",
        "</table>"
      ]
    },
    {
      "cell_type": "code",
      "metadata": {
        "id": "LDy4bLqvkFAu"
      },
      "source": [
        "tp = 36\n",
        "tn = 85\n",
        "fp = 58\n",
        "fn= 8\n",
        "total = tp + tn + fp + fn"
      ],
      "execution_count": 80,
      "outputs": []
    },
    {
      "cell_type": "markdown",
      "metadata": {
        "id": "nEvt7NkUJNao"
      },
      "source": [
        "### a) Accuracy score를 계산하세요"
      ]
    },
    {
      "cell_type": "code",
      "metadata": {
        "colab": {
          "base_uri": "https://localhost:8080/"
        },
        "id": "FFszS2A5JJmv",
        "outputId": "ef85ceeb-7c63-4bbd-ec80-107780e58846"
      },
      "source": [
        "# 이 곳에 답안을 작성하십시오\n",
        "print('Accuracy score:', (tp+tn)/total)"
      ],
      "execution_count": 70,
      "outputs": [
        {
          "output_type": "stream",
          "text": [
            "Accuracy score: 0.6470588235294118\n"
          ],
          "name": "stdout"
        }
      ]
    },
    {
      "cell_type": "markdown",
      "metadata": {
        "id": "XjHTmk8sJO4v"
      },
      "source": [
        "### b) Precision score를 계산하세요 "
      ]
    },
    {
      "cell_type": "code",
      "metadata": {
        "colab": {
          "base_uri": "https://localhost:8080/"
        },
        "id": "7qX1gbcMJQS_",
        "outputId": "2bb81aa8-655d-4e7c-b010-13901beaa6a0"
      },
      "source": [
        "# 이 곳에 답안을 작성하십시오\n",
        "print('Precision scroe:', tp/(tp+fp))"
      ],
      "execution_count": 71,
      "outputs": [
        {
          "output_type": "stream",
          "text": [
            "Precision scroe: 0.3829787234042553\n"
          ],
          "name": "stdout"
        }
      ]
    },
    {
      "cell_type": "markdown",
      "metadata": {
        "id": "pFug3ZKaJQ7A"
      },
      "source": [
        "### c) Recall score를 계산하세요"
      ]
    },
    {
      "cell_type": "code",
      "metadata": {
        "colab": {
          "base_uri": "https://localhost:8080/"
        },
        "id": "xrG97YezV1pB",
        "outputId": "e557f7dd-17b1-40b5-dcc5-6ae2049a916d"
      },
      "source": [
        "# 이 곳에 답안을 작성하십시오\n",
        "print('Recall score:', tp/(tp+fn))"
      ],
      "execution_count": 72,
      "outputs": [
        {
          "output_type": "stream",
          "text": [
            "Recall score: 0.8181818181818182\n"
          ],
          "name": "stdout"
        }
      ]
    },
    {
      "cell_type": "code",
      "metadata": {
        "id": "L0OKc3JxJR4r"
      },
      "source": [
        "# Advanced Goals\n",
        ">**3점**을 획득하기 위해선 아래의 **\"모든 조건\"**을 만족해야합니다. \n",
        "- **4개** 이상의 새로운 feature들을 만드세요. 1.3에 있는 feature들을 포함해서 만드셔도 괜찮습니다.\n",
        "- `feature들`과 `target`의 관계를 보여주는 시각화를 **2개** 이상 해주세요.\n",
        "- 최소 3개의 하이퍼 파라미터를 사용해서 가능한 조합이 10개 이상이 되도록해서 최적화 하세요.`RandomizedSearchCV`나 `GridSearchCV`를 사용하거나 임의로 조합을 만들어도 상관 없습니다.\n",
        "- `feature importance`를 계산하고 시각화 해주세요."
      ],
      "execution_count": null,
      "outputs": []
    },
    {
      "cell_type": "code",
      "metadata": {
        "id": "J5O1eIZrV1pB"
      },
      "source": [
        "# 이 곳에 답안을 작성하십시오"
      ],
      "execution_count": null,
      "outputs": []
    }
  ]
}