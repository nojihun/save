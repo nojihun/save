{
  "nbformat": 4,
  "nbformat_minor": 0,
  "metadata": {
    "colab": {
      "name": "AI_05_노지훈_section1.ipynb",
      "provenance": [],
      "collapsed_sections": [],
      "authorship_tag": "ABX9TyMVdBEvtbsfqHa+C7EXd1wg",
      "include_colab_link": true
    },
    "kernelspec": {
      "name": "python3",
      "display_name": "Python 3"
    },
    "language_info": {
      "name": "python"
    }
  },
  "cells": [
    {
      "cell_type": "markdown",
      "metadata": {
        "id": "view-in-github",
        "colab_type": "text"
      },
      "source": [
        "<a href=\"https://colab.research.google.com/github/nojihun/save/blob/main/AI_05_%EB%85%B8%EC%A7%80%ED%9B%88_section1.ipynb\" target=\"_parent\"><img src=\"https://colab.research.google.com/assets/colab-badge.svg\" alt=\"Open In Colab\"/></a>"
      ]
    },
    {
      "cell_type": "code",
      "metadata": {
        "colab": {
          "resources": {
            "http://localhost:8080/nbextensions/google.colab/files.js": {
              "data": "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",
              "ok": true,
              "headers": [
                [
                  "content-type",
                  "application/javascript"
                ]
              ],
              "status": 200,
              "status_text": ""
            }
          },
          "base_uri": "https://localhost:8080/",
          "height": 76
        },
        "id": "tsfXpHdsn9-o",
        "outputId": "ae6861ba-03d9-48f8-cd3b-4db07c1ee7e4"
      },
      "source": [
        "import numpy as np\n",
        "from google.colab import files\n",
        "import pandas as pd\n",
        "from scipy import stats\n",
        "import matplotlib.pyplot as plt\n",
        "\n",
        "uploaded = files.upload()"
      ],
      "execution_count": 1,
      "outputs": [
        {
          "output_type": "display_data",
          "data": {
            "text/html": [
              "\n",
              "     <input type=\"file\" id=\"files-8a0f386a-c75c-487c-847d-340ccc10ba2d\" name=\"files[]\" multiple disabled\n",
              "        style=\"border:none\" />\n",
              "     <output id=\"result-8a0f386a-c75c-487c-847d-340ccc10ba2d\">\n",
              "      Upload widget is only available when the cell has been executed in the\n",
              "      current browser session. Please rerun this cell to enable.\n",
              "      </output>\n",
              "      <script src=\"/nbextensions/google.colab/files.js\"></script> "
            ],
            "text/plain": [
              "<IPython.core.display.HTML object>"
            ]
          },
          "metadata": {
            "tags": []
          }
        },
        {
          "output_type": "stream",
          "text": [
            "Saving vgames2.csv to vgames2.csv\n"
          ],
          "name": "stdout"
        }
      ]
    },
    {
      "cell_type": "code",
      "metadata": {
        "id": "pEvVcztBoeHP"
      },
      "source": [
        "df = pd.read_csv('vgames2.csv')\n",
        "df = df.dropna() #결측치 제거"
      ],
      "execution_count": 2,
      "outputs": []
    },
    {
      "cell_type": "markdown",
      "metadata": {
        "id": "cNvv2iBvpkyw"
      },
      "source": [
        "지역에 따라서 선호하는 게임 장르가 다를까 라는 질문에 대답을 하셔야합니다.</p>\n",
        "연도별 게임의 트렌드가 있을까 라는 질문에 대답을 하셔야합니다.</p>\n",
        "출고량이 높은 게임에 대한 분석 및 시각화 프로세스가 포함되어야 합니다."
      ]
    },
    {
      "cell_type": "code",
      "metadata": {
        "colab": {
          "base_uri": "https://localhost:8080/"
        },
        "id": "DDan1KGi6lPF",
        "outputId": "f660fab8-e062-4ac2-bd71-6ceb508ddec8"
      },
      "source": [
        "def my_1(x):# 매출액서 K 와 M을 빼내기 위한 함수\n",
        "  val= x.find('K')\n",
        "  val2=x.find('M')\n",
        "  if val != -1:\n",
        "    x = x.replace('K','')\n",
        "    x = float(x)\n",
        "    x = x*1000\n",
        "  elif val2 != - 1:\n",
        "    x=x.replace('M','')\n",
        "    x=float(x)\n",
        "    x = x*1000000\n",
        "  else:\n",
        "    x = float(x)\n",
        "  return x\n",
        "\n",
        "df['NA_Sales']= df['NA_Sales'].apply(my_1)\n",
        "df['EU_Sales']= df['EU_Sales'].apply(my_1)\n",
        "df['JP_Sales']= df['JP_Sales'].apply(my_1)\n",
        "df['Other_Sales']= df['Other_Sales'].apply(my_1)\n",
        "df.info()"
      ],
      "execution_count": 3,
      "outputs": [
        {
          "output_type": "stream",
          "text": [
            "<class 'pandas.core.frame.DataFrame'>\n",
            "Int64Index: 16241 entries, 0 to 16597\n",
            "Data columns (total 10 columns):\n",
            " #   Column       Non-Null Count  Dtype  \n",
            "---  ------       --------------  -----  \n",
            " 0   Unnamed: 0   16241 non-null  int64  \n",
            " 1   Name         16241 non-null  object \n",
            " 2   Platform     16241 non-null  object \n",
            " 3   Year         16241 non-null  float64\n",
            " 4   Genre        16241 non-null  object \n",
            " 5   Publisher    16241 non-null  object \n",
            " 6   NA_Sales     16241 non-null  float64\n",
            " 7   EU_Sales     16241 non-null  float64\n",
            " 8   JP_Sales     16241 non-null  float64\n",
            " 9   Other_Sales  16241 non-null  float64\n",
            "dtypes: float64(5), int64(1), object(4)\n",
            "memory usage: 1.4+ MB\n"
          ],
          "name": "stdout"
        }
      ]
    },
    {
      "cell_type": "code",
      "metadata": {
        "colab": {
          "base_uri": "https://localhost:8080/",
          "height": 418
        },
        "id": "GK0NFBb8nAUG",
        "outputId": "60f782e5-cc55-426d-8f41-d98315cb44b2"
      },
      "source": [
        "df.head(12)"
      ],
      "execution_count": 4,
      "outputs": [
        {
          "output_type": "execute_result",
          "data": {
            "text/html": [
              "<div>\n",
              "<style scoped>\n",
              "    .dataframe tbody tr th:only-of-type {\n",
              "        vertical-align: middle;\n",
              "    }\n",
              "\n",
              "    .dataframe tbody tr th {\n",
              "        vertical-align: top;\n",
              "    }\n",
              "\n",
              "    .dataframe thead th {\n",
              "        text-align: right;\n",
              "    }\n",
              "</style>\n",
              "<table border=\"1\" class=\"dataframe\">\n",
              "  <thead>\n",
              "    <tr style=\"text-align: right;\">\n",
              "      <th></th>\n",
              "      <th>Unnamed: 0</th>\n",
              "      <th>Name</th>\n",
              "      <th>Platform</th>\n",
              "      <th>Year</th>\n",
              "      <th>Genre</th>\n",
              "      <th>Publisher</th>\n",
              "      <th>NA_Sales</th>\n",
              "      <th>EU_Sales</th>\n",
              "      <th>JP_Sales</th>\n",
              "      <th>Other_Sales</th>\n",
              "    </tr>\n",
              "  </thead>\n",
              "  <tbody>\n",
              "    <tr>\n",
              "      <th>0</th>\n",
              "      <td>1</td>\n",
              "      <td>Candace Kane's Candy Factory</td>\n",
              "      <td>DS</td>\n",
              "      <td>2008.0</td>\n",
              "      <td>Action</td>\n",
              "      <td>Destineer</td>\n",
              "      <td>0.04</td>\n",
              "      <td>0.00</td>\n",
              "      <td>0.00</td>\n",
              "      <td>0.00</td>\n",
              "    </tr>\n",
              "    <tr>\n",
              "      <th>1</th>\n",
              "      <td>2</td>\n",
              "      <td>The Munchables</td>\n",
              "      <td>Wii</td>\n",
              "      <td>2009.0</td>\n",
              "      <td>Action</td>\n",
              "      <td>Namco Bandai Games</td>\n",
              "      <td>0.17</td>\n",
              "      <td>0.00</td>\n",
              "      <td>0.00</td>\n",
              "      <td>0.01</td>\n",
              "    </tr>\n",
              "    <tr>\n",
              "      <th>2</th>\n",
              "      <td>3</td>\n",
              "      <td>Otome wa Oanesama Boku ni Koi Shiteru Portable</td>\n",
              "      <td>PSP</td>\n",
              "      <td>2010.0</td>\n",
              "      <td>Adventure</td>\n",
              "      <td>Alchemist</td>\n",
              "      <td>0.00</td>\n",
              "      <td>0.00</td>\n",
              "      <td>0.02</td>\n",
              "      <td>0.00</td>\n",
              "    </tr>\n",
              "    <tr>\n",
              "      <th>3</th>\n",
              "      <td>4</td>\n",
              "      <td>Deal or No Deal: Special Edition</td>\n",
              "      <td>DS</td>\n",
              "      <td>2010.0</td>\n",
              "      <td>Misc</td>\n",
              "      <td>Zoo Games</td>\n",
              "      <td>0.04</td>\n",
              "      <td>0.00</td>\n",
              "      <td>0.00</td>\n",
              "      <td>0.00</td>\n",
              "    </tr>\n",
              "    <tr>\n",
              "      <th>4</th>\n",
              "      <td>5</td>\n",
              "      <td>Ben 10 Ultimate Alien: Cosmic Destruction</td>\n",
              "      <td>PS3</td>\n",
              "      <td>2010.0</td>\n",
              "      <td>Platform</td>\n",
              "      <td>D3Publisher</td>\n",
              "      <td>0.12</td>\n",
              "      <td>0.09</td>\n",
              "      <td>0.00</td>\n",
              "      <td>0.04</td>\n",
              "    </tr>\n",
              "    <tr>\n",
              "      <th>5</th>\n",
              "      <td>6</td>\n",
              "      <td>Power Pro Kun Pocket 8</td>\n",
              "      <td>DS</td>\n",
              "      <td>2005.0</td>\n",
              "      <td>Sports</td>\n",
              "      <td>Konami Digital Entertainment</td>\n",
              "      <td>0.00</td>\n",
              "      <td>0.00</td>\n",
              "      <td>0.14</td>\n",
              "      <td>0.00</td>\n",
              "    </tr>\n",
              "    <tr>\n",
              "      <th>6</th>\n",
              "      <td>7</td>\n",
              "      <td>JASF: Jane's Advanced Strike Fighters</td>\n",
              "      <td>PC</td>\n",
              "      <td>2011.0</td>\n",
              "      <td>Simulation</td>\n",
              "      <td>Deep Silver</td>\n",
              "      <td>0.02</td>\n",
              "      <td>0.01</td>\n",
              "      <td>0.00</td>\n",
              "      <td>0.00</td>\n",
              "    </tr>\n",
              "    <tr>\n",
              "      <th>7</th>\n",
              "      <td>8</td>\n",
              "      <td>Samurai Warriors: State of War</td>\n",
              "      <td>PSP</td>\n",
              "      <td>2005.0</td>\n",
              "      <td>Action</td>\n",
              "      <td>Tecmo Koei</td>\n",
              "      <td>0.07</td>\n",
              "      <td>0.00</td>\n",
              "      <td>0.11</td>\n",
              "      <td>0.01</td>\n",
              "    </tr>\n",
              "    <tr>\n",
              "      <th>8</th>\n",
              "      <td>9</td>\n",
              "      <td>Imabikisou</td>\n",
              "      <td>PS3</td>\n",
              "      <td>2007.0</td>\n",
              "      <td>Adventure</td>\n",
              "      <td>Sega</td>\n",
              "      <td>0.00</td>\n",
              "      <td>0.00</td>\n",
              "      <td>0.04</td>\n",
              "      <td>0.00</td>\n",
              "    </tr>\n",
              "    <tr>\n",
              "      <th>9</th>\n",
              "      <td>10</td>\n",
              "      <td>The Penguins of Madagascar: Dr. Blowhole Retur...</td>\n",
              "      <td>PS3</td>\n",
              "      <td>2011.0</td>\n",
              "      <td>Action</td>\n",
              "      <td>THQ</td>\n",
              "      <td>0.04</td>\n",
              "      <td>0.03</td>\n",
              "      <td>0.00</td>\n",
              "      <td>0.01</td>\n",
              "    </tr>\n",
              "    <tr>\n",
              "      <th>10</th>\n",
              "      <td>11</td>\n",
              "      <td>Ford Racing</td>\n",
              "      <td>PS</td>\n",
              "      <td>2001.0</td>\n",
              "      <td>Racing</td>\n",
              "      <td>Empire Interactive</td>\n",
              "      <td>480000.00</td>\n",
              "      <td>330000.00</td>\n",
              "      <td>0.00</td>\n",
              "      <td>0.06</td>\n",
              "    </tr>\n",
              "    <tr>\n",
              "      <th>11</th>\n",
              "      <td>12</td>\n",
              "      <td>Harvest Moon: More Friends of Mineral Town</td>\n",
              "      <td>GBA</td>\n",
              "      <td>2003.0</td>\n",
              "      <td>Simulation</td>\n",
              "      <td>Ubisoft</td>\n",
              "      <td>0.14</td>\n",
              "      <td>0.05</td>\n",
              "      <td>0.00</td>\n",
              "      <td>0.00</td>\n",
              "    </tr>\n",
              "  </tbody>\n",
              "</table>\n",
              "</div>"
            ],
            "text/plain": [
              "    Unnamed: 0  ... Other_Sales\n",
              "0            1  ...        0.00\n",
              "1            2  ...        0.01\n",
              "2            3  ...        0.00\n",
              "3            4  ...        0.00\n",
              "4            5  ...        0.04\n",
              "5            6  ...        0.00\n",
              "6            7  ...        0.00\n",
              "7            8  ...        0.01\n",
              "8            9  ...        0.00\n",
              "9           10  ...        0.01\n",
              "10          11  ...        0.06\n",
              "11          12  ...        0.00\n",
              "\n",
              "[12 rows x 10 columns]"
            ]
          },
          "metadata": {
            "tags": []
          },
          "execution_count": 4
        }
      ]
    },
    {
      "cell_type": "code",
      "metadata": {
        "id": "qNmV5Ks_Zl4y"
      },
      "source": [
        " # 연도에 오류가나서 제대로 표시 되지 않은 데이터들을 제거\n",
        "de = df[df['Year']<=1899].index\n",
        "df = df.drop(de)\n"
      ],
      "execution_count": 5,
      "outputs": []
    },
    {
      "cell_type": "code",
      "metadata": {
        "id": "cjMc4lna2_KJ",
        "colab": {
          "base_uri": "https://localhost:8080/",
          "height": 417
        },
        "outputId": "a0a522d8-a587-4b03-e0f0-c82691312372"
      },
      "source": [
        "da = df[df['NA_Sales'] >= 20]#매우 잘팔린 게임들\n",
        "db = df[df['EU_Sales']>=20]\n",
        "dc= df[df['JP_Sales']>=20]\n",
        "dd = df[df['Other_Sales']>=20]\n",
        "de = pd.concat([da,db,dc,dd])\n",
        "de = de.drop_duplicates(['Name'])\n",
        "de"
      ],
      "execution_count": 6,
      "outputs": [
        {
          "output_type": "execute_result",
          "data": {
            "text/html": [
              "<div>\n",
              "<style scoped>\n",
              "    .dataframe tbody tr th:only-of-type {\n",
              "        vertical-align: middle;\n",
              "    }\n",
              "\n",
              "    .dataframe tbody tr th {\n",
              "        vertical-align: top;\n",
              "    }\n",
              "\n",
              "    .dataframe thead th {\n",
              "        text-align: right;\n",
              "    }\n",
              "</style>\n",
              "<table border=\"1\" class=\"dataframe\">\n",
              "  <thead>\n",
              "    <tr style=\"text-align: right;\">\n",
              "      <th></th>\n",
              "      <th>Unnamed: 0</th>\n",
              "      <th>Name</th>\n",
              "      <th>Platform</th>\n",
              "      <th>Year</th>\n",
              "      <th>Genre</th>\n",
              "      <th>Publisher</th>\n",
              "      <th>NA_Sales</th>\n",
              "      <th>EU_Sales</th>\n",
              "      <th>JP_Sales</th>\n",
              "      <th>Other_Sales</th>\n",
              "    </tr>\n",
              "  </thead>\n",
              "  <tbody>\n",
              "    <tr>\n",
              "      <th>10</th>\n",
              "      <td>11</td>\n",
              "      <td>Ford Racing</td>\n",
              "      <td>PS</td>\n",
              "      <td>2001.0</td>\n",
              "      <td>Racing</td>\n",
              "      <td>Empire Interactive</td>\n",
              "      <td>480000.00</td>\n",
              "      <td>330000.00</td>\n",
              "      <td>0.00</td>\n",
              "      <td>0.06</td>\n",
              "    </tr>\n",
              "    <tr>\n",
              "      <th>45</th>\n",
              "      <td>46</td>\n",
              "      <td>Resident Evil: Revelations 2</td>\n",
              "      <td>PS3</td>\n",
              "      <td>2015.0</td>\n",
              "      <td>Action</td>\n",
              "      <td>Capcom</td>\n",
              "      <td>60000.00</td>\n",
              "      <td>0.08</td>\n",
              "      <td>0.16</td>\n",
              "      <td>0.03</td>\n",
              "    </tr>\n",
              "    <tr>\n",
              "      <th>447</th>\n",
              "      <td>448</td>\n",
              "      <td>Medal of Honor: Warfighter</td>\n",
              "      <td>X360</td>\n",
              "      <td>2012.0</td>\n",
              "      <td>Action</td>\n",
              "      <td>Electronic Arts</td>\n",
              "      <td>580000.00</td>\n",
              "      <td>0.47</td>\n",
              "      <td>0.01</td>\n",
              "      <td>0.10</td>\n",
              "    </tr>\n",
              "    <tr>\n",
              "      <th>458</th>\n",
              "      <td>459</td>\n",
              "      <td>F1 2010</td>\n",
              "      <td>PS3</td>\n",
              "      <td>2010.0</td>\n",
              "      <td>Racing</td>\n",
              "      <td>Codemasters</td>\n",
              "      <td>250000.00</td>\n",
              "      <td>0.76</td>\n",
              "      <td>0.08</td>\n",
              "      <td>0.27</td>\n",
              "    </tr>\n",
              "    <tr>\n",
              "      <th>577</th>\n",
              "      <td>578</td>\n",
              "      <td>Mario Kart 64</td>\n",
              "      <td>N64</td>\n",
              "      <td>1996.0</td>\n",
              "      <td>Racing</td>\n",
              "      <td>Nintendo</td>\n",
              "      <td>5550000.00</td>\n",
              "      <td>1.94</td>\n",
              "      <td>2.23</td>\n",
              "      <td>0.15</td>\n",
              "    </tr>\n",
              "    <tr>\n",
              "      <th>...</th>\n",
              "      <td>...</td>\n",
              "      <td>...</td>\n",
              "      <td>...</td>\n",
              "      <td>...</td>\n",
              "      <td>...</td>\n",
              "      <td>...</td>\n",
              "      <td>...</td>\n",
              "      <td>...</td>\n",
              "      <td>...</td>\n",
              "      <td>...</td>\n",
              "    </tr>\n",
              "    <tr>\n",
              "      <th>16074</th>\n",
              "      <td>16075</td>\n",
              "      <td>The Black Eyed Peas Experience</td>\n",
              "      <td>Wii</td>\n",
              "      <td>2011.0</td>\n",
              "      <td>Misc</td>\n",
              "      <td>Ubisoft</td>\n",
              "      <td>0.39</td>\n",
              "      <td>0.20</td>\n",
              "      <td>0.00</td>\n",
              "      <td>60000.00</td>\n",
              "    </tr>\n",
              "    <tr>\n",
              "      <th>16141</th>\n",
              "      <td>16142</td>\n",
              "      <td>World Championship Poker: Featuring Howard Led...</td>\n",
              "      <td>PS2</td>\n",
              "      <td>2006.0</td>\n",
              "      <td>Misc</td>\n",
              "      <td>Oxygen Interactive</td>\n",
              "      <td>0.82</td>\n",
              "      <td>0.64</td>\n",
              "      <td>0.00</td>\n",
              "      <td>220000.00</td>\n",
              "    </tr>\n",
              "    <tr>\n",
              "      <th>16143</th>\n",
              "      <td>16144</td>\n",
              "      <td>DJ Hero</td>\n",
              "      <td>Wii</td>\n",
              "      <td>2009.0</td>\n",
              "      <td>Misc</td>\n",
              "      <td>Activision</td>\n",
              "      <td>0.47</td>\n",
              "      <td>0.23</td>\n",
              "      <td>0.00</td>\n",
              "      <td>70000.00</td>\n",
              "    </tr>\n",
              "    <tr>\n",
              "      <th>16412</th>\n",
              "      <td>16413</td>\n",
              "      <td>Yu-Gi-Oh! Ultimate Masters: World Championship...</td>\n",
              "      <td>GBA</td>\n",
              "      <td>2006.0</td>\n",
              "      <td>Misc</td>\n",
              "      <td>Konami Digital Entertainment</td>\n",
              "      <td>0.14</td>\n",
              "      <td>0.05</td>\n",
              "      <td>0.07</td>\n",
              "      <td>10000.00</td>\n",
              "    </tr>\n",
              "    <tr>\n",
              "      <th>16591</th>\n",
              "      <td>16592</td>\n",
              "      <td>Madden NFL 2005</td>\n",
              "      <td>PS2</td>\n",
              "      <td>2004.0</td>\n",
              "      <td>Sports</td>\n",
              "      <td>Electronic Arts</td>\n",
              "      <td>4.18</td>\n",
              "      <td>0.26</td>\n",
              "      <td>0.01</td>\n",
              "      <td>80000.00</td>\n",
              "    </tr>\n",
              "  </tbody>\n",
              "</table>\n",
              "<p>440 rows × 10 columns</p>\n",
              "</div>"
            ],
            "text/plain": [
              "       Unnamed: 0  ... Other_Sales\n",
              "10             11  ...        0.06\n",
              "45             46  ...        0.03\n",
              "447           448  ...        0.10\n",
              "458           459  ...        0.27\n",
              "577           578  ...        0.15\n",
              "...           ...  ...         ...\n",
              "16074       16075  ...    60000.00\n",
              "16141       16142  ...   220000.00\n",
              "16143       16144  ...    70000.00\n",
              "16412       16413  ...    10000.00\n",
              "16591       16592  ...    80000.00\n",
              "\n",
              "[440 rows x 10 columns]"
            ]
          },
          "metadata": {
            "tags": []
          },
          "execution_count": 6
        }
      ]
    },
    {
      "cell_type": "code",
      "metadata": {
        "id": "Bvwc2DFRGoEl"
      },
      "source": [
        "de = df[df['NA_Sales'] >= 100].index #대박이 나서 평균에 큰 영향을 미치는 것들을 빼는 건데... 이게 맞나??\n",
        "df = df.drop(de)\n",
        "de = df[df['EU_Sales']>=100].index\n",
        "df = df.drop(de)\n",
        "de = df[df['JP_Sales']>=100].index\n",
        "df = df.drop(de)\n",
        "de = df[df['Other_Sales']>=100].index\n",
        "df = df.drop(de)"
      ],
      "execution_count": 7,
      "outputs": []
    },
    {
      "cell_type": "code",
      "metadata": {
        "colab": {
          "base_uri": "https://localhost:8080/",
          "height": 417
        },
        "id": "S7He9xL6loH5",
        "outputId": "63bb54e8-3fa9-48bf-9573-4292f1327c34"
      },
      "source": [
        "df=df.drop(['Unnamed: 0'], axis ='columns' )\n",
        "df = df.reset_index()\n",
        "df=df.drop(['index'], axis ='columns' )\n",
        "df"
      ],
      "execution_count": 8,
      "outputs": [
        {
          "output_type": "execute_result",
          "data": {
            "text/html": [
              "<div>\n",
              "<style scoped>\n",
              "    .dataframe tbody tr th:only-of-type {\n",
              "        vertical-align: middle;\n",
              "    }\n",
              "\n",
              "    .dataframe tbody tr th {\n",
              "        vertical-align: top;\n",
              "    }\n",
              "\n",
              "    .dataframe thead th {\n",
              "        text-align: right;\n",
              "    }\n",
              "</style>\n",
              "<table border=\"1\" class=\"dataframe\">\n",
              "  <thead>\n",
              "    <tr style=\"text-align: right;\">\n",
              "      <th></th>\n",
              "      <th>Name</th>\n",
              "      <th>Platform</th>\n",
              "      <th>Year</th>\n",
              "      <th>Genre</th>\n",
              "      <th>Publisher</th>\n",
              "      <th>NA_Sales</th>\n",
              "      <th>EU_Sales</th>\n",
              "      <th>JP_Sales</th>\n",
              "      <th>Other_Sales</th>\n",
              "    </tr>\n",
              "  </thead>\n",
              "  <tbody>\n",
              "    <tr>\n",
              "      <th>0</th>\n",
              "      <td>Candace Kane's Candy Factory</td>\n",
              "      <td>DS</td>\n",
              "      <td>2008.0</td>\n",
              "      <td>Action</td>\n",
              "      <td>Destineer</td>\n",
              "      <td>0.04</td>\n",
              "      <td>0.00</td>\n",
              "      <td>0.00</td>\n",
              "      <td>0.00</td>\n",
              "    </tr>\n",
              "    <tr>\n",
              "      <th>1</th>\n",
              "      <td>The Munchables</td>\n",
              "      <td>Wii</td>\n",
              "      <td>2009.0</td>\n",
              "      <td>Action</td>\n",
              "      <td>Namco Bandai Games</td>\n",
              "      <td>0.17</td>\n",
              "      <td>0.00</td>\n",
              "      <td>0.00</td>\n",
              "      <td>0.01</td>\n",
              "    </tr>\n",
              "    <tr>\n",
              "      <th>2</th>\n",
              "      <td>Otome wa Oanesama Boku ni Koi Shiteru Portable</td>\n",
              "      <td>PSP</td>\n",
              "      <td>2010.0</td>\n",
              "      <td>Adventure</td>\n",
              "      <td>Alchemist</td>\n",
              "      <td>0.00</td>\n",
              "      <td>0.00</td>\n",
              "      <td>0.02</td>\n",
              "      <td>0.00</td>\n",
              "    </tr>\n",
              "    <tr>\n",
              "      <th>3</th>\n",
              "      <td>Deal or No Deal: Special Edition</td>\n",
              "      <td>DS</td>\n",
              "      <td>2010.0</td>\n",
              "      <td>Misc</td>\n",
              "      <td>Zoo Games</td>\n",
              "      <td>0.04</td>\n",
              "      <td>0.00</td>\n",
              "      <td>0.00</td>\n",
              "      <td>0.00</td>\n",
              "    </tr>\n",
              "    <tr>\n",
              "      <th>4</th>\n",
              "      <td>Ben 10 Ultimate Alien: Cosmic Destruction</td>\n",
              "      <td>PS3</td>\n",
              "      <td>2010.0</td>\n",
              "      <td>Platform</td>\n",
              "      <td>D3Publisher</td>\n",
              "      <td>0.12</td>\n",
              "      <td>0.09</td>\n",
              "      <td>0.00</td>\n",
              "      <td>0.04</td>\n",
              "    </tr>\n",
              "    <tr>\n",
              "      <th>...</th>\n",
              "      <td>...</td>\n",
              "      <td>...</td>\n",
              "      <td>...</td>\n",
              "      <td>...</td>\n",
              "      <td>...</td>\n",
              "      <td>...</td>\n",
              "      <td>...</td>\n",
              "      <td>...</td>\n",
              "      <td>...</td>\n",
              "    </tr>\n",
              "    <tr>\n",
              "      <th>15692</th>\n",
              "      <td>Ice Age 2: The Meltdown</td>\n",
              "      <td>GC</td>\n",
              "      <td>2006.0</td>\n",
              "      <td>Platform</td>\n",
              "      <td>Vivendi Games</td>\n",
              "      <td>0.15</td>\n",
              "      <td>0.04</td>\n",
              "      <td>0.00</td>\n",
              "      <td>0.01</td>\n",
              "    </tr>\n",
              "    <tr>\n",
              "      <th>15693</th>\n",
              "      <td>Rainbow Islands: Revolution</td>\n",
              "      <td>PSP</td>\n",
              "      <td>2005.0</td>\n",
              "      <td>Action</td>\n",
              "      <td>Rising Star Games</td>\n",
              "      <td>0.01</td>\n",
              "      <td>0.00</td>\n",
              "      <td>0.00</td>\n",
              "      <td>0.00</td>\n",
              "    </tr>\n",
              "    <tr>\n",
              "      <th>15694</th>\n",
              "      <td>NBA 2K16</td>\n",
              "      <td>PS3</td>\n",
              "      <td>2015.0</td>\n",
              "      <td>Sports</td>\n",
              "      <td>Take-Two Interactive</td>\n",
              "      <td>0.44</td>\n",
              "      <td>0.19</td>\n",
              "      <td>0.03</td>\n",
              "      <td>0.13</td>\n",
              "    </tr>\n",
              "    <tr>\n",
              "      <th>15695</th>\n",
              "      <td>Toukiden: The Age of Demons</td>\n",
              "      <td>PSV</td>\n",
              "      <td>2013.0</td>\n",
              "      <td>Action</td>\n",
              "      <td>Tecmo Koei</td>\n",
              "      <td>0.05</td>\n",
              "      <td>0.05</td>\n",
              "      <td>0.25</td>\n",
              "      <td>0.03</td>\n",
              "    </tr>\n",
              "    <tr>\n",
              "      <th>15696</th>\n",
              "      <td>The King of Fighters '95</td>\n",
              "      <td>PS</td>\n",
              "      <td>1996.0</td>\n",
              "      <td>Fighting</td>\n",
              "      <td>Sony Computer Entertainment</td>\n",
              "      <td>0.00</td>\n",
              "      <td>0.00</td>\n",
              "      <td>0.16</td>\n",
              "      <td>0.01</td>\n",
              "    </tr>\n",
              "  </tbody>\n",
              "</table>\n",
              "<p>15697 rows × 9 columns</p>\n",
              "</div>"
            ],
            "text/plain": [
              "                                                 Name  ... Other_Sales\n",
              "0                        Candace Kane's Candy Factory  ...        0.00\n",
              "1                                      The Munchables  ...        0.01\n",
              "2      Otome wa Oanesama Boku ni Koi Shiteru Portable  ...        0.00\n",
              "3                    Deal or No Deal: Special Edition  ...        0.00\n",
              "4           Ben 10 Ultimate Alien: Cosmic Destruction  ...        0.04\n",
              "...                                               ...  ...         ...\n",
              "15692                         Ice Age 2: The Meltdown  ...        0.01\n",
              "15693                     Rainbow Islands: Revolution  ...        0.00\n",
              "15694                                        NBA 2K16  ...        0.13\n",
              "15695                     Toukiden: The Age of Demons  ...        0.03\n",
              "15696                        The King of Fighters '95  ...        0.01\n",
              "\n",
              "[15697 rows x 9 columns]"
            ]
          },
          "metadata": {
            "tags": []
          },
          "execution_count": 8
        }
      ]
    },
    {
      "cell_type": "code",
      "metadata": {
        "id": "i0eerwlECGBh"
      },
      "source": [
        "df_n = df[df['Year']>=2010]"
      ],
      "execution_count": 9,
      "outputs": []
    },
    {
      "cell_type": "code",
      "metadata": {
        "colab": {
          "base_uri": "https://localhost:8080/",
          "height": 172
        },
        "id": "K2S4PS2np8sr",
        "outputId": "fd844350-d829-442f-b261-b20961aaf136"
      },
      "source": [
        "# 장르와 지역\n",
        "\n",
        "df1= pd.DataFrame(df.groupby(['Genre'])[['NA_Sales','EU_Sales', 'JP_Sales', 'Other_Sales']].mean())\n",
        "df1= df1.T\n",
        "df1 = df1.reset_index()\n",
        "df1"
      ],
      "execution_count": 38,
      "outputs": [
        {
          "output_type": "execute_result",
          "data": {
            "text/html": [
              "<div>\n",
              "<style scoped>\n",
              "    .dataframe tbody tr th:only-of-type {\n",
              "        vertical-align: middle;\n",
              "    }\n",
              "\n",
              "    .dataframe tbody tr th {\n",
              "        vertical-align: top;\n",
              "    }\n",
              "\n",
              "    .dataframe thead th {\n",
              "        text-align: right;\n",
              "    }\n",
              "</style>\n",
              "<table border=\"1\" class=\"dataframe\">\n",
              "  <thead>\n",
              "    <tr style=\"text-align: right;\">\n",
              "      <th>Genre</th>\n",
              "      <th>index</th>\n",
              "      <th>Action</th>\n",
              "      <th>Adventure</th>\n",
              "      <th>Fighting</th>\n",
              "      <th>Misc</th>\n",
              "      <th>Platform</th>\n",
              "      <th>Puzzle</th>\n",
              "      <th>Racing</th>\n",
              "      <th>Role-Playing</th>\n",
              "      <th>Shooter</th>\n",
              "      <th>Simulation</th>\n",
              "      <th>Sports</th>\n",
              "      <th>Strategy</th>\n",
              "    </tr>\n",
              "  </thead>\n",
              "  <tbody>\n",
              "    <tr>\n",
              "      <th>0</th>\n",
              "      <td>NA_Sales</td>\n",
              "      <td>0.257654</td>\n",
              "      <td>0.078609</td>\n",
              "      <td>0.261696</td>\n",
              "      <td>0.236346</td>\n",
              "      <td>0.498972</td>\n",
              "      <td>0.217093</td>\n",
              "      <td>0.286687</td>\n",
              "      <td>0.201792</td>\n",
              "      <td>0.444041</td>\n",
              "      <td>0.213549</td>\n",
              "      <td>0.286908</td>\n",
              "      <td>0.101137</td>\n",
              "    </tr>\n",
              "    <tr>\n",
              "      <th>1</th>\n",
              "      <td>EU_Sales</td>\n",
              "      <td>0.155841</td>\n",
              "      <td>0.048891</td>\n",
              "      <td>0.117525</td>\n",
              "      <td>0.124603</td>\n",
              "      <td>0.223567</td>\n",
              "      <td>0.091316</td>\n",
              "      <td>0.190537</td>\n",
              "      <td>0.113824</td>\n",
              "      <td>0.239000</td>\n",
              "      <td>0.132110</td>\n",
              "      <td>0.157980</td>\n",
              "      <td>0.066667</td>\n",
              "    </tr>\n",
              "    <tr>\n",
              "      <th>2</th>\n",
              "      <td>JP_Sales</td>\n",
              "      <td>0.048209</td>\n",
              "      <td>0.041166</td>\n",
              "      <td>0.102797</td>\n",
              "      <td>0.063598</td>\n",
              "      <td>0.147654</td>\n",
              "      <td>0.102687</td>\n",
              "      <td>0.044395</td>\n",
              "      <td>0.225262</td>\n",
              "      <td>0.029780</td>\n",
              "      <td>0.075463</td>\n",
              "      <td>0.059066</td>\n",
              "      <td>0.071859</td>\n",
              "    </tr>\n",
              "    <tr>\n",
              "      <th>3</th>\n",
              "      <td>Other_Sales</td>\n",
              "      <td>0.056349</td>\n",
              "      <td>0.012966</td>\n",
              "      <td>0.042760</td>\n",
              "      <td>0.043512</td>\n",
              "      <td>0.058102</td>\n",
              "      <td>0.022194</td>\n",
              "      <td>0.062853</td>\n",
              "      <td>0.036183</td>\n",
              "      <td>0.078724</td>\n",
              "      <td>0.036476</td>\n",
              "      <td>0.056813</td>\n",
              "      <td>0.016559</td>\n",
              "    </tr>\n",
              "  </tbody>\n",
              "</table>\n",
              "</div>"
            ],
            "text/plain": [
              "Genre        index    Action  Adventure  ...  Simulation    Sports  Strategy\n",
              "0         NA_Sales  0.257654   0.078609  ...    0.213549  0.286908  0.101137\n",
              "1         EU_Sales  0.155841   0.048891  ...    0.132110  0.157980  0.066667\n",
              "2         JP_Sales  0.048209   0.041166  ...    0.075463  0.059066  0.071859\n",
              "3      Other_Sales  0.056349   0.012966  ...    0.036476  0.056813  0.016559\n",
              "\n",
              "[4 rows x 13 columns]"
            ]
          },
          "metadata": {
            "tags": []
          },
          "execution_count": 38
        }
      ]
    },
    {
      "cell_type": "code",
      "metadata": {
        "colab": {
          "base_uri": "https://localhost:8080/",
          "height": 655
        },
        "id": "MAuxM9iDAfK1",
        "outputId": "128478a1-8856-45cc-eb65-e94e47acbc0d"
      },
      "source": [
        "df1.plot(x= 'index', y=['Action',\t'Adventure',\t'Fighting',\t'Misc',\t'Platform',\t'Puzzle',\t'Racing',\t'Role-Playing',\t'Shooter',\t'Simulation',\t'Sports',\t'Strategy'], kind=\"bar\",figsize=(15,10))\n",
        "plt.show()"
      ],
      "execution_count": 39,
      "outputs": [
        {
          "output_type": "display_data",
          "data": {
            "image/png": "[encoded data removed]",
            "text/plain": [
              "<Figure size 1080x720 with 1 Axes>"
            ]
          },
          "metadata": {
            "tags": [],
            "needs_background": "light"
          }
        }
      ]
    },
    {
      "cell_type": "code",
      "metadata": {
        "id": "MF2LWIU2TrEK"
      },
      "source": [
        "from scipy.stats import chi2_contingency"
      ],
      "execution_count": 12,
      "outputs": []
    },
    {
      "cell_type": "code",
      "metadata": {
        "id": "YFP3xdcsValz"
      },
      "source": [
        "df1 = df1.set_index('index')\n"
      ],
      "execution_count": 13,
      "outputs": []
    },
    {
      "cell_type": "code",
      "metadata": {
        "colab": {
          "base_uri": "https://localhost:8080/"
        },
        "id": "6ZW7fldTTrui",
        "outputId": "c8bace28-e882-4d32-f316-97384dfe7d5d"
      },
      "source": [
        "chi2_contingency(df1)"
      ],
      "execution_count": 14,
      "outputs": [
        {
          "output_type": "execute_result",
          "data": {
            "text/plain": [
              "(0.4715418107758973,\n",
              " 1.0,\n",
              " 33,\n",
              " array([[0.254375  , 0.08918508, 0.25767674, 0.22982697, 0.45581255,\n",
              "         0.21275491, 0.28698809, 0.28334914, 0.38866524, 0.2246901 ,\n",
              "         0.27534873, 0.12581004],\n",
              "        [0.13705237, 0.04805121, 0.13883129, 0.12382636, 0.24558306,\n",
              "         0.11462827, 0.15462368, 0.15266309, 0.20940538, 0.12105872,\n",
              "         0.14835262, 0.06778404],\n",
              "        [0.08345379, 0.02925929, 0.08453701, 0.07540022, 0.14954018,\n",
              "         0.06979932, 0.09415329, 0.09295945, 0.12751091, 0.07371495,\n",
              "         0.09033472, 0.04127499],\n",
              "        [0.04317182, 0.01513625, 0.04373219, 0.0390056 , 0.07735925,\n",
              "         0.03610818, 0.04870683, 0.04808923, 0.06596319, 0.03813379,\n",
              "         0.04673143, 0.02135213]]))"
            ]
          },
          "metadata": {
            "tags": []
          },
          "execution_count": 14
        }
      ]
    },
    {
      "cell_type": "markdown",
      "metadata": {
        "id": "PhXXji-Car71"
      },
      "source": [
        "결론 p값이 1이니 지역에 따른 장르의 선호도가 다르다고 볼 수 없다."
      ]
    },
    {
      "cell_type": "markdown",
      "metadata": {
        "id": "shNTeGqC0OrU"
      },
      "source": [
        ""
      ]
    },
    {
      "cell_type": "code",
      "metadata": {
        "id": "r4lcdlosKnZm"
      },
      "source": [
        "df2= pd.DataFrame(df.groupby(['Year','Genre'])[['NA_Sales','EU_Sales', 'JP_Sales', 'Other_Sales']].mean())\n",
        "df2[\"sum\"] = df2[['NA_Sales','EU_Sales', 'JP_Sales', 'Other_Sales']].sum(axis = 1)\n",
        "df2 = pd.DataFrame(df2['sum'])\n",
        "df2 = df2.reset_index()\n",
        "df2 = df2.pivot_table(index = 'Year', columns = 'Genre', values = 'sum')\n",
        "df2= df2.fillna(0)\n",
        "header = list(df2.columns.values)\n",
        "df2= df2.reset_index()\n",
        "df2"
      ],
      "execution_count": null,
      "outputs": []
    },
    {
      "cell_type": "code",
      "metadata": {
        "colab": {
          "base_uri": "https://localhost:8080/",
          "height": 631
        },
        "id": "RkOHf2LJbrH3",
        "outputId": "cbf8c78d-0958-4e09-9121-34f09e18c2ec"
      },
      "source": [
        "df2.plot(x= 'Year', y= header, kind=\"bar\",figsize=(15,10))\n",
        "plt.show()"
      ],
      "execution_count": 16,
      "outputs": [
        {
          "output_type": "display_data",
          "data": {
            "image/png": "[encoded data removed]",
            "text/plain": [
              "<Figure size 1080x720 with 1 Axes>"
            ]
          },
          "metadata": {
            "tags": [],
            "needs_background": "light"
          }
        }
      ]
    },
    {
      "cell_type": "code",
      "metadata": {
        "id": "hc93Uln7cIWk"
      },
      "source": [
        "df2 = df2.set_index('Year')"
      ],
      "execution_count": 17,
      "outputs": []
    },
    {
      "cell_type": "code",
      "metadata": {
        "colab": {
          "base_uri": "https://localhost:8080/"
        },
        "id": "YsY0kViOWDJu",
        "outputId": "f9110a3f-b5eb-4248-8f40-4d727f51348d"
      },
      "source": [
        "chi, p, n, static = chi2_contingency(df2)\n",
        "chi, p, n"
      ],
      "execution_count": 18,
      "outputs": [
        {
          "output_type": "execute_result",
          "data": {
            "text/plain": [
              "(305.7536568971036, 0.9999903669560812, 418)"
            ]
          },
          "metadata": {
            "tags": []
          },
          "execution_count": 18
        }
      ]
    },
    {
      "cell_type": "code",
      "metadata": {
        "id": "asH8drHcqr6P"
      },
      "source": [
        "df2 = df2.reset_index()"
      ],
      "execution_count": 19,
      "outputs": []
    },
    {
      "cell_type": "code",
      "metadata": {
        "id": "FGhJCR0SWGt_",
        "colab": {
          "base_uri": "https://localhost:8080/",
          "height": 326
        },
        "outputId": "1f4ed67c-5f5c-4365-8f50-e835b26323c2"
      },
      "source": [
        "df_2 = df2[df2['Year']>=2010]\n",
        "df_2"
      ],
      "execution_count": 20,
      "outputs": [
        {
          "output_type": "execute_result",
          "data": {
            "text/html": [
              "<div>\n",
              "<style scoped>\n",
              "    .dataframe tbody tr th:only-of-type {\n",
              "        vertical-align: middle;\n",
              "    }\n",
              "\n",
              "    .dataframe tbody tr th {\n",
              "        vertical-align: top;\n",
              "    }\n",
              "\n",
              "    .dataframe thead th {\n",
              "        text-align: right;\n",
              "    }\n",
              "</style>\n",
              "<table border=\"1\" class=\"dataframe\">\n",
              "  <thead>\n",
              "    <tr style=\"text-align: right;\">\n",
              "      <th>Genre</th>\n",
              "      <th>Year</th>\n",
              "      <th>Action</th>\n",
              "      <th>Adventure</th>\n",
              "      <th>Fighting</th>\n",
              "      <th>Misc</th>\n",
              "      <th>Platform</th>\n",
              "      <th>Puzzle</th>\n",
              "      <th>Racing</th>\n",
              "      <th>Role-Playing</th>\n",
              "      <th>Shooter</th>\n",
              "      <th>Simulation</th>\n",
              "      <th>Sports</th>\n",
              "      <th>Strategy</th>\n",
              "    </tr>\n",
              "  </thead>\n",
              "  <tbody>\n",
              "    <tr>\n",
              "      <th>30</th>\n",
              "      <td>2010.0</td>\n",
              "      <td>0.517623</td>\n",
              "      <td>0.109467</td>\n",
              "      <td>0.372000</td>\n",
              "      <td>0.449267</td>\n",
              "      <td>0.969655</td>\n",
              "      <td>0.252500</td>\n",
              "      <td>0.599464</td>\n",
              "      <td>0.537789</td>\n",
              "      <td>0.872597</td>\n",
              "      <td>0.275897</td>\n",
              "      <td>0.471823</td>\n",
              "      <td>0.265102</td>\n",
              "    </tr>\n",
              "    <tr>\n",
              "      <th>31</th>\n",
              "      <td>2011.0</td>\n",
              "      <td>0.506537</td>\n",
              "      <td>0.149245</td>\n",
              "      <td>0.450217</td>\n",
              "      <td>0.306742</td>\n",
              "      <td>0.758889</td>\n",
              "      <td>0.125526</td>\n",
              "      <td>0.553333</td>\n",
              "      <td>0.466848</td>\n",
              "      <td>1.002247</td>\n",
              "      <td>0.278889</td>\n",
              "      <td>0.453983</td>\n",
              "      <td>0.197111</td>\n",
              "    </tr>\n",
              "    <tr>\n",
              "      <th>32</th>\n",
              "      <td>2012.0</td>\n",
              "      <td>0.434080</td>\n",
              "      <td>0.103509</td>\n",
              "      <td>0.293333</td>\n",
              "      <td>0.616111</td>\n",
              "      <td>1.685455</td>\n",
              "      <td>0.158182</td>\n",
              "      <td>0.487586</td>\n",
              "      <td>0.609600</td>\n",
              "      <td>1.561522</td>\n",
              "      <td>0.742778</td>\n",
              "      <td>0.569623</td>\n",
              "      <td>0.222000</td>\n",
              "    </tr>\n",
              "    <tr>\n",
              "      <th>33</th>\n",
              "      <td>2013.0</td>\n",
              "      <td>0.748811</td>\n",
              "      <td>0.111525</td>\n",
              "      <td>0.379474</td>\n",
              "      <td>0.629750</td>\n",
              "      <td>0.638824</td>\n",
              "      <td>0.333333</td>\n",
              "      <td>0.673077</td>\n",
              "      <td>0.421970</td>\n",
              "      <td>1.005965</td>\n",
              "      <td>0.482222</td>\n",
              "      <td>0.721373</td>\n",
              "      <td>0.258889</td>\n",
              "    </tr>\n",
              "    <tr>\n",
              "      <th>34</th>\n",
              "      <td>2014.0</td>\n",
              "      <td>0.536685</td>\n",
              "      <td>0.080946</td>\n",
              "      <td>0.788947</td>\n",
              "      <td>0.578780</td>\n",
              "      <td>0.887000</td>\n",
              "      <td>0.214286</td>\n",
              "      <td>0.618889</td>\n",
              "      <td>0.518182</td>\n",
              "      <td>1.332727</td>\n",
              "      <td>0.503636</td>\n",
              "      <td>0.819245</td>\n",
              "      <td>0.121250</td>\n",
              "    </tr>\n",
              "    <tr>\n",
              "      <th>35</th>\n",
              "      <td>2015.0</td>\n",
              "      <td>0.271388</td>\n",
              "      <td>0.153654</td>\n",
              "      <td>0.388000</td>\n",
              "      <td>0.302895</td>\n",
              "      <td>0.228333</td>\n",
              "      <td>0.115000</td>\n",
              "      <td>0.416842</td>\n",
              "      <td>0.437568</td>\n",
              "      <td>1.944706</td>\n",
              "      <td>0.374000</td>\n",
              "      <td>0.627377</td>\n",
              "      <td>0.107059</td>\n",
              "    </tr>\n",
              "    <tr>\n",
              "      <th>36</th>\n",
              "      <td>2016.0</td>\n",
              "      <td>0.171739</td>\n",
              "      <td>0.054242</td>\n",
              "      <td>0.275000</td>\n",
              "      <td>0.064118</td>\n",
              "      <td>0.208000</td>\n",
              "      <td>0.000000</td>\n",
              "      <td>0.085263</td>\n",
              "      <td>0.168462</td>\n",
              "      <td>0.488571</td>\n",
              "      <td>0.043333</td>\n",
              "      <td>0.268889</td>\n",
              "      <td>0.052000</td>\n",
              "    </tr>\n",
              "    <tr>\n",
              "      <th>37</th>\n",
              "      <td>2017.0</td>\n",
              "      <td>0.010000</td>\n",
              "      <td>0.000000</td>\n",
              "      <td>0.000000</td>\n",
              "      <td>0.000000</td>\n",
              "      <td>0.000000</td>\n",
              "      <td>0.000000</td>\n",
              "      <td>0.000000</td>\n",
              "      <td>0.020000</td>\n",
              "      <td>0.000000</td>\n",
              "      <td>0.000000</td>\n",
              "      <td>0.000000</td>\n",
              "      <td>0.000000</td>\n",
              "    </tr>\n",
              "    <tr>\n",
              "      <th>38</th>\n",
              "      <td>2020.0</td>\n",
              "      <td>0.000000</td>\n",
              "      <td>0.000000</td>\n",
              "      <td>0.000000</td>\n",
              "      <td>0.000000</td>\n",
              "      <td>0.000000</td>\n",
              "      <td>0.000000</td>\n",
              "      <td>0.000000</td>\n",
              "      <td>0.000000</td>\n",
              "      <td>0.000000</td>\n",
              "      <td>0.290000</td>\n",
              "      <td>0.000000</td>\n",
              "      <td>0.000000</td>\n",
              "    </tr>\n",
              "  </tbody>\n",
              "</table>\n",
              "</div>"
            ],
            "text/plain": [
              "Genre    Year    Action  Adventure  ...  Simulation    Sports  Strategy\n",
              "30     2010.0  0.517623   0.109467  ...    0.275897  0.471823  0.265102\n",
              "31     2011.0  0.506537   0.149245  ...    0.278889  0.453983  0.197111\n",
              "32     2012.0  0.434080   0.103509  ...    0.742778  0.569623  0.222000\n",
              "33     2013.0  0.748811   0.111525  ...    0.482222  0.721373  0.258889\n",
              "34     2014.0  0.536685   0.080946  ...    0.503636  0.819245  0.121250\n",
              "35     2015.0  0.271388   0.153654  ...    0.374000  0.627377  0.107059\n",
              "36     2016.0  0.171739   0.054242  ...    0.043333  0.268889  0.052000\n",
              "37     2017.0  0.010000   0.000000  ...    0.000000  0.000000  0.000000\n",
              "38     2020.0  0.000000   0.000000  ...    0.290000  0.000000  0.000000\n",
              "\n",
              "[9 rows x 13 columns]"
            ]
          },
          "metadata": {
            "tags": []
          },
          "execution_count": 20
        }
      ]
    },
    {
      "cell_type": "code",
      "metadata": {
        "id": "CzSmvkC1qucB",
        "colab": {
          "base_uri": "https://localhost:8080/",
          "height": 630
        },
        "outputId": "a861503c-3174-4595-b058-84ea41d44f8a"
      },
      "source": [
        "df_2.plot(x= 'Year', y= header, kind=\"bar\",figsize=(15,10))\n",
        "plt.show()"
      ],
      "execution_count": 21,
      "outputs": [
        {
          "output_type": "display_data",
          "data": {
            "image/png": "[encoded data removed]",
            "text/plain": [
              "<Figure size 1080x720 with 1 Axes>"
            ]
          },
          "metadata": {
            "tags": [],
            "needs_background": "light"
          }
        }
      ]
    },
    {
      "cell_type": "code",
      "metadata": {
        "id": "ZgKNHLk7qzlK",
        "colab": {
          "base_uri": "https://localhost:8080/"
        },
        "outputId": "ab38e564-8865-4225-e0ba-a3284af6b6ba"
      },
      "source": [
        "df_2 = df_2.set_index('Year')\n",
        "chi, p, n, static = chi2_contingency(df_2)\n",
        "chi, p, n\n"
      ],
      "execution_count": 22,
      "outputs": [
        {
          "output_type": "execute_result",
          "data": {
            "text/plain": [
              "(7.259210307995383, 1.0, 88)"
            ]
          },
          "metadata": {
            "tags": []
          },
          "execution_count": 22
        }
      ]
    },
    {
      "cell_type": "code",
      "metadata": {
        "id": "P7ZtP79xxTi8",
        "colab": {
          "base_uri": "https://localhost:8080/",
          "height": 1000
        },
        "outputId": "5bb68a95-de1a-4dc7-b6ec-30179f611623"
      },
      "source": [
        "df3= pd.DataFrame(df.groupby(['Platform'])[['NA_Sales','EU_Sales', 'JP_Sales', 'Other_Sales']].mean())\n",
        "df3"
      ],
      "execution_count": 23,
      "outputs": [
        {
          "output_type": "execute_result",
          "data": {
            "text/html": [
              "<div>\n",
              "<style scoped>\n",
              "    .dataframe tbody tr th:only-of-type {\n",
              "        vertical-align: middle;\n",
              "    }\n",
              "\n",
              "    .dataframe tbody tr th {\n",
              "        vertical-align: top;\n",
              "    }\n",
              "\n",
              "    .dataframe thead th {\n",
              "        text-align: right;\n",
              "    }\n",
              "</style>\n",
              "<table border=\"1\" class=\"dataframe\">\n",
              "  <thead>\n",
              "    <tr style=\"text-align: right;\">\n",
              "      <th></th>\n",
              "      <th>NA_Sales</th>\n",
              "      <th>EU_Sales</th>\n",
              "      <th>JP_Sales</th>\n",
              "      <th>Other_Sales</th>\n",
              "    </tr>\n",
              "    <tr>\n",
              "      <th>Platform</th>\n",
              "      <th></th>\n",
              "      <th></th>\n",
              "      <th></th>\n",
              "      <th></th>\n",
              "    </tr>\n",
              "  </thead>\n",
              "  <tbody>\n",
              "    <tr>\n",
              "      <th>2600</th>\n",
              "      <td>0.688421</td>\n",
              "      <td>0.041404</td>\n",
              "      <td>0.000000</td>\n",
              "      <td>0.007105</td>\n",
              "    </tr>\n",
              "    <tr>\n",
              "      <th>3DO</th>\n",
              "      <td>0.000000</td>\n",
              "      <td>0.000000</td>\n",
              "      <td>0.033333</td>\n",
              "      <td>0.000000</td>\n",
              "    </tr>\n",
              "    <tr>\n",
              "      <th>3DS</th>\n",
              "      <td>0.145925</td>\n",
              "      <td>0.108503</td>\n",
              "      <td>0.190166</td>\n",
              "      <td>0.023514</td>\n",
              "    </tr>\n",
              "    <tr>\n",
              "      <th>DC</th>\n",
              "      <td>0.104423</td>\n",
              "      <td>0.032500</td>\n",
              "      <td>0.164615</td>\n",
              "      <td>0.005192</td>\n",
              "    </tr>\n",
              "    <tr>\n",
              "      <th>DS</th>\n",
              "      <td>0.178340</td>\n",
              "      <td>0.089598</td>\n",
              "      <td>0.080736</td>\n",
              "      <td>0.027851</td>\n",
              "    </tr>\n",
              "    <tr>\n",
              "      <th>GB</th>\n",
              "      <td>1.146277</td>\n",
              "      <td>0.451809</td>\n",
              "      <td>0.869468</td>\n",
              "      <td>0.080532</td>\n",
              "    </tr>\n",
              "    <tr>\n",
              "      <th>GBA</th>\n",
              "      <td>0.219895</td>\n",
              "      <td>0.087668</td>\n",
              "      <td>0.053926</td>\n",
              "      <td>0.008867</td>\n",
              "    </tr>\n",
              "    <tr>\n",
              "      <th>GC</th>\n",
              "      <td>0.245405</td>\n",
              "      <td>0.070598</td>\n",
              "      <td>0.040000</td>\n",
              "      <td>0.009440</td>\n",
              "    </tr>\n",
              "    <tr>\n",
              "      <th>GEN</th>\n",
              "      <td>0.741154</td>\n",
              "      <td>0.212308</td>\n",
              "      <td>0.092692</td>\n",
              "      <td>0.034231</td>\n",
              "    </tr>\n",
              "    <tr>\n",
              "      <th>GG</th>\n",
              "      <td>0.000000</td>\n",
              "      <td>0.000000</td>\n",
              "      <td>0.040000</td>\n",
              "      <td>0.000000</td>\n",
              "    </tr>\n",
              "    <tr>\n",
              "      <th>N64</th>\n",
              "      <td>0.395217</td>\n",
              "      <td>0.109231</td>\n",
              "      <td>0.089231</td>\n",
              "      <td>0.012040</td>\n",
              "    </tr>\n",
              "    <tr>\n",
              "      <th>NES</th>\n",
              "      <td>1.283333</td>\n",
              "      <td>0.212151</td>\n",
              "      <td>1.028280</td>\n",
              "      <td>0.054624</td>\n",
              "    </tr>\n",
              "    <tr>\n",
              "      <th>NG</th>\n",
              "      <td>0.000000</td>\n",
              "      <td>0.000000</td>\n",
              "      <td>0.120000</td>\n",
              "      <td>0.000000</td>\n",
              "    </tr>\n",
              "    <tr>\n",
              "      <th>PC</th>\n",
              "      <td>0.099682</td>\n",
              "      <td>0.145192</td>\n",
              "      <td>0.000186</td>\n",
              "      <td>0.025783</td>\n",
              "    </tr>\n",
              "    <tr>\n",
              "      <th>PCFX</th>\n",
              "      <td>0.000000</td>\n",
              "      <td>0.000000</td>\n",
              "      <td>0.030000</td>\n",
              "      <td>0.000000</td>\n",
              "    </tr>\n",
              "    <tr>\n",
              "      <th>PS</th>\n",
              "      <td>0.277617</td>\n",
              "      <td>0.177422</td>\n",
              "      <td>0.114756</td>\n",
              "      <td>0.033950</td>\n",
              "    </tr>\n",
              "    <tr>\n",
              "      <th>PS2</th>\n",
              "      <td>0.263868</td>\n",
              "      <td>0.154844</td>\n",
              "      <td>0.064068</td>\n",
              "      <td>0.088849</td>\n",
              "    </tr>\n",
              "    <tr>\n",
              "      <th>PS3</th>\n",
              "      <td>0.296119</td>\n",
              "      <td>0.260826</td>\n",
              "      <td>0.059816</td>\n",
              "      <td>0.107594</td>\n",
              "    </tr>\n",
              "    <tr>\n",
              "      <th>PS4</th>\n",
              "      <td>0.274385</td>\n",
              "      <td>0.353218</td>\n",
              "      <td>0.042114</td>\n",
              "      <td>0.124416</td>\n",
              "    </tr>\n",
              "    <tr>\n",
              "      <th>PSP</th>\n",
              "      <td>0.087976</td>\n",
              "      <td>0.056675</td>\n",
              "      <td>0.063428</td>\n",
              "      <td>0.034815</td>\n",
              "    </tr>\n",
              "    <tr>\n",
              "      <th>PSV</th>\n",
              "      <td>0.037500</td>\n",
              "      <td>0.038207</td>\n",
              "      <td>0.051364</td>\n",
              "      <td>0.019874</td>\n",
              "    </tr>\n",
              "    <tr>\n",
              "      <th>SAT</th>\n",
              "      <td>0.001273</td>\n",
              "      <td>0.000970</td>\n",
              "      <td>0.173576</td>\n",
              "      <td>0.000121</td>\n",
              "    </tr>\n",
              "    <tr>\n",
              "      <th>SCD</th>\n",
              "      <td>0.166667</td>\n",
              "      <td>0.060000</td>\n",
              "      <td>0.075000</td>\n",
              "      <td>0.008333</td>\n",
              "    </tr>\n",
              "    <tr>\n",
              "      <th>SNES</th>\n",
              "      <td>0.261667</td>\n",
              "      <td>0.081368</td>\n",
              "      <td>0.491923</td>\n",
              "      <td>0.013761</td>\n",
              "    </tr>\n",
              "    <tr>\n",
              "      <th>TG16</th>\n",
              "      <td>0.000000</td>\n",
              "      <td>0.000000</td>\n",
              "      <td>0.080000</td>\n",
              "      <td>0.000000</td>\n",
              "    </tr>\n",
              "    <tr>\n",
              "      <th>WS</th>\n",
              "      <td>0.000000</td>\n",
              "      <td>0.000000</td>\n",
              "      <td>0.236667</td>\n",
              "      <td>0.000000</td>\n",
              "    </tr>\n",
              "    <tr>\n",
              "      <th>Wii</th>\n",
              "      <td>0.386367</td>\n",
              "      <td>0.204807</td>\n",
              "      <td>0.051262</td>\n",
              "      <td>0.061471</td>\n",
              "    </tr>\n",
              "    <tr>\n",
              "      <th>WiiU</th>\n",
              "      <td>0.255929</td>\n",
              "      <td>0.162071</td>\n",
              "      <td>0.083429</td>\n",
              "      <td>0.043429</td>\n",
              "    </tr>\n",
              "    <tr>\n",
              "      <th>X360</th>\n",
              "      <td>0.461931</td>\n",
              "      <td>0.211484</td>\n",
              "      <td>0.009671</td>\n",
              "      <td>0.065118</td>\n",
              "    </tr>\n",
              "    <tr>\n",
              "      <th>XB</th>\n",
              "      <td>0.225510</td>\n",
              "      <td>0.073290</td>\n",
              "      <td>0.001729</td>\n",
              "      <td>0.010413</td>\n",
              "    </tr>\n",
              "    <tr>\n",
              "      <th>XOne</th>\n",
              "      <td>0.377150</td>\n",
              "      <td>0.207198</td>\n",
              "      <td>0.001546</td>\n",
              "      <td>0.054444</td>\n",
              "    </tr>\n",
              "  </tbody>\n",
              "</table>\n",
              "</div>"
            ],
            "text/plain": [
              "          NA_Sales  EU_Sales  JP_Sales  Other_Sales\n",
              "Platform                                           \n",
              "2600      0.688421  0.041404  0.000000     0.007105\n",
              "3DO       0.000000  0.000000  0.033333     0.000000\n",
              "3DS       0.145925  0.108503  0.190166     0.023514\n",
              "DC        0.104423  0.032500  0.164615     0.005192\n",
              "DS        0.178340  0.089598  0.080736     0.027851\n",
              "GB        1.146277  0.451809  0.869468     0.080532\n",
              "GBA       0.219895  0.087668  0.053926     0.008867\n",
              "GC        0.245405  0.070598  0.040000     0.009440\n",
              "GEN       0.741154  0.212308  0.092692     0.034231\n",
              "GG        0.000000  0.000000  0.040000     0.000000\n",
              "N64       0.395217  0.109231  0.089231     0.012040\n",
              "NES       1.283333  0.212151  1.028280     0.054624\n",
              "NG        0.000000  0.000000  0.120000     0.000000\n",
              "PC        0.099682  0.145192  0.000186     0.025783\n",
              "PCFX      0.000000  0.000000  0.030000     0.000000\n",
              "PS        0.277617  0.177422  0.114756     0.033950\n",
              "PS2       0.263868  0.154844  0.064068     0.088849\n",
              "PS3       0.296119  0.260826  0.059816     0.107594\n",
              "PS4       0.274385  0.353218  0.042114     0.124416\n",
              "PSP       0.087976  0.056675  0.063428     0.034815\n",
              "PSV       0.037500  0.038207  0.051364     0.019874\n",
              "SAT       0.001273  0.000970  0.173576     0.000121\n",
              "SCD       0.166667  0.060000  0.075000     0.008333\n",
              "SNES      0.261667  0.081368  0.491923     0.013761\n",
              "TG16      0.000000  0.000000  0.080000     0.000000\n",
              "WS        0.000000  0.000000  0.236667     0.000000\n",
              "Wii       0.386367  0.204807  0.051262     0.061471\n",
              "WiiU      0.255929  0.162071  0.083429     0.043429\n",
              "X360      0.461931  0.211484  0.009671     0.065118\n",
              "XB        0.225510  0.073290  0.001729     0.010413\n",
              "XOne      0.377150  0.207198  0.001546     0.054444"
            ]
          },
          "metadata": {
            "tags": []
          },
          "execution_count": 23
        }
      ]
    },
    {
      "cell_type": "code",
      "metadata": {
        "id": "jdVNUg4dA0hG",
        "colab": {
          "base_uri": "https://localhost:8080/",
          "height": 622
        },
        "outputId": "d97b2493-df8c-49c8-abbe-705a60a0dd7a"
      },
      "source": [
        "header = list(df3.columns.values)\n",
        "df3[\"sum\"] = df3[['NA_Sales','EU_Sales', 'JP_Sales', 'Other_Sales']].sum(axis = 1)\n",
        "df3= df3.reset_index()\n",
        "\n",
        "df3.plot(x= 'Platform', y='sum', kind=\"bar\",figsize=(15,10))\n",
        "plt.show()"
      ],
      "execution_count": 24,
      "outputs": [
        {
          "output_type": "display_data",
          "data": {
            "image/png": "[encoded data removed]",
            "text/plain": [
              "<Figure size 1080x720 with 1 Axes>"
            ]
          },
          "metadata": {
            "tags": [],
            "needs_background": "light"
          }
        }
      ]
    },
    {
      "cell_type": "code",
      "metadata": {
        "id": "3VgBMknxBM1W",
        "colab": {
          "base_uri": "https://localhost:8080/",
          "height": 450
        },
        "outputId": "500fab8a-9254-4eba-bcbd-b837844c77fa"
      },
      "source": [
        "df_3 = pd.DataFrame(df_n.groupby(['Platform'])[['NA_Sales','EU_Sales', 'JP_Sales', 'Other_Sales']].mean()) #최근 10년치 데이터들만\n",
        "df_3"
      ],
      "execution_count": 25,
      "outputs": [
        {
          "output_type": "execute_result",
          "data": {
            "text/html": [
              "<div>\n",
              "<style scoped>\n",
              "    .dataframe tbody tr th:only-of-type {\n",
              "        vertical-align: middle;\n",
              "    }\n",
              "\n",
              "    .dataframe tbody tr th {\n",
              "        vertical-align: top;\n",
              "    }\n",
              "\n",
              "    .dataframe thead th {\n",
              "        text-align: right;\n",
              "    }\n",
              "</style>\n",
              "<table border=\"1\" class=\"dataframe\">\n",
              "  <thead>\n",
              "    <tr style=\"text-align: right;\">\n",
              "      <th></th>\n",
              "      <th>NA_Sales</th>\n",
              "      <th>EU_Sales</th>\n",
              "      <th>JP_Sales</th>\n",
              "      <th>Other_Sales</th>\n",
              "    </tr>\n",
              "    <tr>\n",
              "      <th>Platform</th>\n",
              "      <th></th>\n",
              "      <th></th>\n",
              "      <th></th>\n",
              "      <th></th>\n",
              "    </tr>\n",
              "  </thead>\n",
              "  <tbody>\n",
              "    <tr>\n",
              "      <th>3DS</th>\n",
              "      <td>0.145925</td>\n",
              "      <td>0.108503</td>\n",
              "      <td>0.190166</td>\n",
              "      <td>0.023514</td>\n",
              "    </tr>\n",
              "    <tr>\n",
              "      <th>DS</th>\n",
              "      <td>0.112505</td>\n",
              "      <td>0.052970</td>\n",
              "      <td>0.042586</td>\n",
              "      <td>0.015192</td>\n",
              "    </tr>\n",
              "    <tr>\n",
              "      <th>PC</th>\n",
              "      <td>0.082864</td>\n",
              "      <td>0.144027</td>\n",
              "      <td>0.000000</td>\n",
              "      <td>0.034228</td>\n",
              "    </tr>\n",
              "    <tr>\n",
              "      <th>PS2</th>\n",
              "      <td>0.044419</td>\n",
              "      <td>0.038372</td>\n",
              "      <td>0.018140</td>\n",
              "      <td>0.028605</td>\n",
              "    </tr>\n",
              "    <tr>\n",
              "      <th>PS3</th>\n",
              "      <td>0.255235</td>\n",
              "      <td>0.252676</td>\n",
              "      <td>0.066948</td>\n",
              "      <td>0.102042</td>\n",
              "    </tr>\n",
              "    <tr>\n",
              "      <th>PS4</th>\n",
              "      <td>0.274385</td>\n",
              "      <td>0.353218</td>\n",
              "      <td>0.042114</td>\n",
              "      <td>0.124416</td>\n",
              "    </tr>\n",
              "    <tr>\n",
              "      <th>PSP</th>\n",
              "      <td>0.017593</td>\n",
              "      <td>0.015123</td>\n",
              "      <td>0.083786</td>\n",
              "      <td>0.009012</td>\n",
              "    </tr>\n",
              "    <tr>\n",
              "      <th>PSV</th>\n",
              "      <td>0.037500</td>\n",
              "      <td>0.038207</td>\n",
              "      <td>0.051364</td>\n",
              "      <td>0.019874</td>\n",
              "    </tr>\n",
              "    <tr>\n",
              "      <th>Wii</th>\n",
              "      <td>0.272650</td>\n",
              "      <td>0.145046</td>\n",
              "      <td>0.031889</td>\n",
              "      <td>0.039954</td>\n",
              "    </tr>\n",
              "    <tr>\n",
              "      <th>WiiU</th>\n",
              "      <td>0.255929</td>\n",
              "      <td>0.162071</td>\n",
              "      <td>0.083429</td>\n",
              "      <td>0.043429</td>\n",
              "    </tr>\n",
              "    <tr>\n",
              "      <th>X360</th>\n",
              "      <td>0.455559</td>\n",
              "      <td>0.228530</td>\n",
              "      <td>0.007519</td>\n",
              "      <td>0.063323</td>\n",
              "    </tr>\n",
              "    <tr>\n",
              "      <th>XOne</th>\n",
              "      <td>0.377150</td>\n",
              "      <td>0.207198</td>\n",
              "      <td>0.001546</td>\n",
              "      <td>0.054444</td>\n",
              "    </tr>\n",
              "  </tbody>\n",
              "</table>\n",
              "</div>"
            ],
            "text/plain": [
              "          NA_Sales  EU_Sales  JP_Sales  Other_Sales\n",
              "Platform                                           \n",
              "3DS       0.145925  0.108503  0.190166     0.023514\n",
              "DS        0.112505  0.052970  0.042586     0.015192\n",
              "PC        0.082864  0.144027  0.000000     0.034228\n",
              "PS2       0.044419  0.038372  0.018140     0.028605\n",
              "PS3       0.255235  0.252676  0.066948     0.102042\n",
              "PS4       0.274385  0.353218  0.042114     0.124416\n",
              "PSP       0.017593  0.015123  0.083786     0.009012\n",
              "PSV       0.037500  0.038207  0.051364     0.019874\n",
              "Wii       0.272650  0.145046  0.031889     0.039954\n",
              "WiiU      0.255929  0.162071  0.083429     0.043429\n",
              "X360      0.455559  0.228530  0.007519     0.063323\n",
              "XOne      0.377150  0.207198  0.001546     0.054444"
            ]
          },
          "metadata": {
            "tags": []
          },
          "execution_count": 25
        }
      ]
    },
    {
      "cell_type": "code",
      "metadata": {
        "id": "coyJ0IwlCAWU",
        "colab": {
          "base_uri": "https://localhost:8080/",
          "height": 622
        },
        "outputId": "0e4de34e-86dc-4bc9-8630-0bae92fb668f"
      },
      "source": [
        "header = list(df_3.columns.values)\n",
        "df_3[\"sum\"] = df_3[['NA_Sales','EU_Sales', 'JP_Sales', 'Other_Sales']].sum(axis = 1)\n",
        "df_3= df_3.reset_index()\n",
        "\n",
        "df_3.plot(x= 'Platform', y='sum', kind=\"bar\",figsize=(15,10))\n",
        "plt.show()"
      ],
      "execution_count": 26,
      "outputs": [
        {
          "output_type": "display_data",
          "data": {
            "image/png": "[encoded data removed]",
            "text/plain": [
              "<Figure size 1080x720 with 1 Axes>"
            ]
          },
          "metadata": {
            "tags": [],
            "needs_background": "light"
          }
        }
      ]
    },
    {
      "cell_type": "code",
      "metadata": {
        "id": "VNS6kO6ZC-D_",
        "colab": {
          "base_uri": "https://localhost:8080/"
        },
        "outputId": "c4be93f9-cbf5-4d1c-9914-e8769ea30a1c"
      },
      "source": [
        "F_statistic, pVal = stats.f_oneway( df_3['NA_Sales'],df_3['EU_Sales'], df_3['JP_Sales'],df_3['Other_Sales'])\n",
        "pVal"
      ],
      "execution_count": 27,
      "outputs": [
        {
          "output_type": "execute_result",
          "data": {
            "text/plain": [
              "0.0004454733792675141"
            ]
          },
          "metadata": {
            "tags": []
          },
          "execution_count": 27
        }
      ]
    },
    {
      "cell_type": "code",
      "metadata": {
        "id": "UCeE8UHVpfT2",
        "colab": {
          "base_uri": "https://localhost:8080/"
        },
        "outputId": "cec24b53-fe4c-4fc8-8371-a9852e7fe4cf"
      },
      "source": [
        "from statsmodels.formula.api import ols\n",
        "from statsmodels.stats.anova import anova_lm"
      ],
      "execution_count": 28,
      "outputs": [
        {
          "output_type": "stream",
          "text": [
            "/usr/local/lib/python3.7/dist-packages/statsmodels/tools/_testing.py:19: FutureWarning: pandas.util.testing is deprecated. Use the functions in the public API at pandas.testing instead.\n",
            "  import pandas.util.testing as tm\n"
          ],
          "name": "stderr"
        }
      ]
    },
    {
      "cell_type": "code",
      "metadata": {
        "id": "8X17dtJAKFJq",
        "colab": {
          "base_uri": "https://localhost:8080/",
          "height": 110
        },
        "outputId": "5716cbcf-2dee-4b8b-b995-1b8101f415fd"
      },
      "source": [
        "model = ols('NA_Sales ~ C(Genre)', df).fit()\n",
        "anova_lm(model)"
      ],
      "execution_count": 29,
      "outputs": [
        {
          "output_type": "execute_result",
          "data": {
            "text/html": [
              "<div>\n",
              "<style scoped>\n",
              "    .dataframe tbody tr th:only-of-type {\n",
              "        vertical-align: middle;\n",
              "    }\n",
              "\n",
              "    .dataframe tbody tr th {\n",
              "        vertical-align: top;\n",
              "    }\n",
              "\n",
              "    .dataframe thead th {\n",
              "        text-align: right;\n",
              "    }\n",
              "</style>\n",
              "<table border=\"1\" class=\"dataframe\">\n",
              "  <thead>\n",
              "    <tr style=\"text-align: right;\">\n",
              "      <th></th>\n",
              "      <th>df</th>\n",
              "      <th>sum_sq</th>\n",
              "      <th>mean_sq</th>\n",
              "      <th>F</th>\n",
              "      <th>PR(&gt;F)</th>\n",
              "    </tr>\n",
              "  </thead>\n",
              "  <tbody>\n",
              "    <tr>\n",
              "      <th>C(Genre)</th>\n",
              "      <td>11.0</td>\n",
              "      <td>157.186881</td>\n",
              "      <td>14.289716</td>\n",
              "      <td>21.733395</td>\n",
              "      <td>1.248314e-44</td>\n",
              "    </tr>\n",
              "    <tr>\n",
              "      <th>Residual</th>\n",
              "      <td>15685.0</td>\n",
              "      <td>10312.894386</td>\n",
              "      <td>0.657500</td>\n",
              "      <td>NaN</td>\n",
              "      <td>NaN</td>\n",
              "    </tr>\n",
              "  </tbody>\n",
              "</table>\n",
              "</div>"
            ],
            "text/plain": [
              "               df        sum_sq    mean_sq          F        PR(>F)\n",
              "C(Genre)     11.0    157.186881  14.289716  21.733395  1.248314e-44\n",
              "Residual  15685.0  10312.894386   0.657500        NaN           NaN"
            ]
          },
          "metadata": {
            "tags": []
          },
          "execution_count": 29
        }
      ]
    },
    {
      "cell_type": "code",
      "metadata": {
        "id": "EnDo1WL9KuE_",
        "colab": {
          "base_uri": "https://localhost:8080/",
          "height": 238
        },
        "outputId": "0e13fc13-3063-4af7-f484-0f61f2786fa3"
      },
      "source": [
        "model = ols('NA_Sales ~ C(Genre)*C(Platform)', df).fit()\n",
        "anova_lm(model, typ = 3)"
      ],
      "execution_count": 30,
      "outputs": [
        {
          "output_type": "stream",
          "text": [
            "/usr/local/lib/python3.7/dist-packages/statsmodels/base/model.py:1752: ValueWarning: covariance of constraints does not have full rank. The number of constraints is 330, but rank is 259\n",
            "  'rank is %d' % (J, J_), ValueWarning)\n"
          ],
          "name": "stderr"
        },
        {
          "output_type": "execute_result",
          "data": {
            "text/html": [
              "<div>\n",
              "<style scoped>\n",
              "    .dataframe tbody tr th:only-of-type {\n",
              "        vertical-align: middle;\n",
              "    }\n",
              "\n",
              "    .dataframe tbody tr th {\n",
              "        vertical-align: top;\n",
              "    }\n",
              "\n",
              "    .dataframe thead th {\n",
              "        text-align: right;\n",
              "    }\n",
              "</style>\n",
              "<table border=\"1\" class=\"dataframe\">\n",
              "  <thead>\n",
              "    <tr style=\"text-align: right;\">\n",
              "      <th></th>\n",
              "      <th>sum_sq</th>\n",
              "      <th>df</th>\n",
              "      <th>F</th>\n",
              "      <th>PR(&gt;F)</th>\n",
              "    </tr>\n",
              "  </thead>\n",
              "  <tbody>\n",
              "    <tr>\n",
              "      <th>Intercept</th>\n",
              "      <td>9.618224</td>\n",
              "      <td>1.0</td>\n",
              "      <td>15.323381</td>\n",
              "      <td>9.097822e-05</td>\n",
              "    </tr>\n",
              "    <tr>\n",
              "      <th>C(Genre)</th>\n",
              "      <td>22.461849</td>\n",
              "      <td>11.0</td>\n",
              "      <td>3.253213</td>\n",
              "      <td>1.859129e-04</td>\n",
              "    </tr>\n",
              "    <tr>\n",
              "      <th>C(Platform)</th>\n",
              "      <td>60.123082</td>\n",
              "      <td>30.0</td>\n",
              "      <td>3.192859</td>\n",
              "      <td>9.154872e-09</td>\n",
              "    </tr>\n",
              "    <tr>\n",
              "      <th>C(Genre):C(Platform)</th>\n",
              "      <td>414.525145</td>\n",
              "      <td>330.0</td>\n",
              "      <td>2.001228</td>\n",
              "      <td>5.209951e-19</td>\n",
              "    </tr>\n",
              "    <tr>\n",
              "      <th>Residual</th>\n",
              "      <td>9669.454920</td>\n",
              "      <td>15405.0</td>\n",
              "      <td>NaN</td>\n",
              "      <td>NaN</td>\n",
              "    </tr>\n",
              "  </tbody>\n",
              "</table>\n",
              "</div>"
            ],
            "text/plain": [
              "                           sum_sq       df          F        PR(>F)\n",
              "Intercept                9.618224      1.0  15.323381  9.097822e-05\n",
              "C(Genre)                22.461849     11.0   3.253213  1.859129e-04\n",
              "C(Platform)             60.123082     30.0   3.192859  9.154872e-09\n",
              "C(Genre):C(Platform)   414.525145    330.0   2.001228  5.209951e-19\n",
              "Residual              9669.454920  15405.0        NaN           NaN"
            ]
          },
          "metadata": {
            "tags": []
          },
          "execution_count": 30
        }
      ]
    },
    {
      "cell_type": "markdown",
      "metadata": {
        "id": "7l8CxL8Ur6dg"
      },
      "source": [
        "결과는 Genre 에 따라 매출이 달라지고 platform에 따라 매출이 달라지낟. 그리고 게임의 장르와 플랫폼이 두개가 상호작용을 한다."
      ]
    },
    {
      "cell_type": "markdown",
      "metadata": {
        "id": "lKL4DMvWy5Wh"
      },
      "source": [
        "장르와 수입들 중에서 수입들로 scaater 그래프를 그리고  k-means 를 한다면 지역에 따라 장르가 바뀌지 않는다는 것을 더 잘 보여 줄수 있지 않을까. "
      ]
    },
    {
      "cell_type": "code",
      "metadata": {
        "id": "K-loMhvmZhQ3"
      },
      "source": [
        ""
      ],
      "execution_count": null,
      "outputs": []
    }
  ]
}